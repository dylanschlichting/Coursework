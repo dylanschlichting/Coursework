{
 "cells": [
  {
   "cell_type": "markdown",
   "metadata": {},
   "source": [
    "## Introduction "
   ]
  },
  {
   "cell_type": "markdown",
   "metadata": {},
   "source": [
    "Below is an example related to my research that I modified from the Dedalus website. The figure demonstrates a Kelvin-Hemholtz instability of a generic tracer, which occurs when there is velocity shear in a continuous fluid."
   ]
  },
  {
   "cell_type": "code",
   "execution_count": 1,
   "metadata": {},
   "outputs": [
    {
     "data": {
      "text/html": [
       "<video src=\"KH_Inst.mp4\" controls  >\n",
       "      Your browser does not support the <code>video</code> element.\n",
       "    </video>"
      ],
      "text/plain": [
       "<IPython.core.display.Video object>"
      ]
     },
     "execution_count": 1,
     "metadata": {},
     "output_type": "execute_result"
    }
   ],
   "source": [
    "from IPython.display import Video\n",
    "\n",
    "Video(\"KH_Inst.mp4\")"
   ]
  },
  {
   "cell_type": "markdown",
   "metadata": {},
   "source": [
    "## Installation & Required Packages"
   ]
  },
  {
   "cell_type": "code",
   "execution_count": 2,
   "metadata": {},
   "outputs": [],
   "source": [
    "from dedalus import public as de #public domain\n",
    "from dedalus.extras import flow_tools #cfd tools needed for fluid mechanics\n",
    "from dedalus.extras import plot_tools #Plotting\n",
    "from dedalus.extras.plot_tools import quad_mesh, pad_limits #Mesh capabilites\n",
    "\n",
    "import logging \n",
    "logger = logging.getLogger(__name__) #Log time\n",
    "import time\n",
    "\n",
    "import numpy as np\n",
    "import matplotlib.pyplot as plt\n",
    "%matplotlib inline\n",
    "import cmocean as cmo\n",
    "\n",
    "import celluloid #For animations - not necessary for BVPs\n",
    "from celluloid import Camera #To create the animation\n",
    "import matplotlib.animation as animation #To Save the animation"
   ]
  },
  {
   "cell_type": "markdown",
   "metadata": {},
   "source": [
    "## Example problem: Poisson equation (BVP)\n",
    "### $\\frac{\\partial^2 u}{\\partial x^2}+\\frac{\\partial^2 u}{\\partial y^2} = sin(x)+cos(y),$\n",
    "Link - https://bitbucket.org/dedalus-project/dedalus/src/tip/examples/bvp/2d_poisson/poisson.py?at=default.\n",
    "Note - if you wanted to solve a problem on a domain without a source term, this reduces to Laplace equation. If you are curious about how to solve Laplace or Possion eqn, see https://math.la.asu.edu/~kuiper/502files/Laplace.pdf"
   ]
  },
  {
   "cell_type": "markdown",
   "metadata": {},
   "source": [
    "### Create bases and domain\n",
    "You can adjust the number of grid cells to be asymmetrical - which is often the case. This is especially useful if you are solving a problem that has high variability in only one spatial dimension.\n",
    "Link to general description of spectral methods - https://en.wikipedia.org/wiki/Spectral_method"
   ]
  },
  {
   "cell_type": "code",
   "execution_count": 19,
   "metadata": {},
   "outputs": [],
   "source": [
    "x_basis = de.Fourier('x', 128, interval=(-2*np.pi, 2*np.pi))\n",
    "y_basis = de.Chebyshev('y', 128, interval=(-2*np.pi, 2*np.pi))\n",
    "domain = de.Domain([x_basis, y_basis], grid_dtype=np.float64)"
   ]
  },
  {
   "cell_type": "code",
   "execution_count": 20,
   "metadata": {},
   "outputs": [
    {
     "data": {
      "text/plain": [
       "<matplotlib.legend.Legend at 0x7f5b4909c160>"
      ]
     },
     "execution_count": 20,
     "metadata": {},
     "output_type": "execute_result"
    },
    {
     "data": {
      "image/png": "[encoded data removed]",
      "text/plain": [
       "<Figure size 720x144 with 1 Axes>"
      ]
     },
     "metadata": {
      "needs_background": "light"
     },
     "output_type": "display_data"
    }
   ],
   "source": [
    "grid_normal = x_basis.grid(scale=1)\n",
    "grid_normaly = y_basis.grid(scale=1)\n",
    "\n",
    "plt.figure(figsize=(10, 2))\n",
    "plt.rcParams.update({'font.size': 18})\n",
    "plt.plot(grid_normal, np.zeros_like(grid_normal)+1, 'o', markersize=3, label = 'X Points')\n",
    "plt.plot(grid_normaly, np.zeros_like(grid_normaly+1), 'o', markersize = 3, label = 'Y Points')\n",
    "plt.ylim([-2, 2])\n",
    "plt.gca().yaxis.set_ticks([]);\n",
    "plt.title('Grid')\n",
    "plt.legend(fontsize = '14')"
   ]
  },
  {
   "cell_type": "markdown",
   "metadata": {},
   "source": [
    "### Enter equation and BCs\n",
    "If you are curious about the different types of boundary conditions - https://en.wikipedia.org/wiki/Boundary_value_problem"
   ]
  },
  {
   "cell_type": "code",
   "execution_count": 5,
   "metadata": {},
   "outputs": [],
   "source": [
    "problem = de.LBVP(domain, variables=['u','uy'])\n",
    "problem.add_equation(\"dx(dx(u)) + dy(uy) = sin(x) + cos(y)\")\n",
    "problem.add_equation(\"uy - dy(u) = 0\")\n",
    "\n",
    "problem.add_bc(\"left(u) = 0\") #It's uncommon for this to be the case but we do this for simplication \n",
    "problem.add_bc(\"right(u) = 0\")"
   ]
  },
  {
   "cell_type": "markdown",
   "metadata": {},
   "source": [
    "### Build solver\n",
    "Link to documentation if you are curious about types of solvers - https://dedalus-project.readthedocs.io/en/latest/autoapi/dedalus/core/solvers/"
   ]
  },
  {
   "cell_type": "code",
   "execution_count": 6,
   "metadata": {},
   "outputs": [
    {
     "name": "stdout",
     "output_type": "stream",
     "text": [
      "2020-04-20 14:13:28,882 pencil 0/1 INFO :: Building pencil matrix 1/128 (~1%) Elapsed: 0s, Remaining: 3s, Rate: 5.0e+01/s\n",
      "2020-04-20 14:13:29,029 pencil 0/1 INFO :: Building pencil matrix 13/128 (~10%) Elapsed: 0s, Remaining: 1s, Rate: 7.7e+01/s\n",
      "2020-04-20 14:13:29,177 pencil 0/1 INFO :: Building pencil matrix 26/128 (~20%) Elapsed: 0s, Remaining: 1s, Rate: 8.2e+01/s\n",
      "2020-04-20 14:13:29,322 pencil 0/1 INFO :: Building pencil matrix 39/128 (~30%) Elapsed: 0s, Remaining: 1s, Rate: 8.5e+01/s\n",
      "2020-04-20 14:13:29,470 pencil 0/1 INFO :: Building pencil matrix 52/128 (~41%) Elapsed: 1s, Remaining: 1s, Rate: 8.5e+01/s\n",
      "2020-04-20 14:13:29,614 pencil 0/1 INFO :: Building pencil matrix 65/128 (~51%) Elapsed: 1s, Remaining: 1s, Rate: 8.6e+01/s\n",
      "2020-04-20 14:13:29,756 pencil 0/1 INFO :: Building pencil matrix 78/128 (~61%) Elapsed: 1s, Remaining: 1s, Rate: 8.7e+01/s\n",
      "2020-04-20 14:13:29,899 pencil 0/1 INFO :: Building pencil matrix 91/128 (~71%) Elapsed: 1s, Remaining: 0s, Rate: 8.8e+01/s\n",
      "2020-04-20 14:13:30,044 pencil 0/1 INFO :: Building pencil matrix 104/128 (~81%) Elapsed: 1s, Remaining: 0s, Rate: 8.8e+01/s\n",
      "2020-04-20 14:13:30,192 pencil 0/1 INFO :: Building pencil matrix 117/128 (~91%) Elapsed: 1s, Remaining: 0s, Rate: 8.8e+01/s\n",
      "2020-04-20 14:13:30,316 pencil 0/1 INFO :: Building pencil matrix 128/128 (~100%) Elapsed: 1s, Remaining: 0s, Rate: 8.8e+01/s\n"
     ]
    }
   ],
   "source": [
    "solver = problem.build_solver() #Leaving it generic - could specify \n",
    "solver.solve()"
   ]
  },
  {
   "cell_type": "markdown",
   "metadata": {},
   "source": [
    "### Access and plot data"
   ]
  },
  {
   "cell_type": "code",
   "execution_count": 7,
   "metadata": {},
   "outputs": [
    {
     "data": {
      "text/plain": [
       "(<matplotlib.axes._axes.Axes at 0x7f5b46c95280>,\n",
       " <matplotlib.axes._axes.Axes at 0x7f5b46c416d0>)"
      ]
     },
     "execution_count": 7,
     "metadata": {},
     "output_type": "execute_result"
    },
    {
     "data": {
      "image/png": "[encoded data removed]",
      "text/plain": [
       "<Figure size 720x576 with 3 Axes>"
      ]
     },
     "metadata": {
      "needs_background": "light"
     },
     "output_type": "display_data"
    }
   ],
   "source": [
    "u = solver.state['u']\n",
    "u.require_grid_space()\n",
    "\n",
    "fig, ax = plt.subplots(1, figsize = (10, 8))\n",
    "plot_tools.plot_bot_2d(u, axes = ax, title = 'U', cmap = cmo.cm.balance) #Built in plotting module"
   ]
  },
  {
   "cell_type": "markdown",
   "metadata": {},
   "source": [
    "# More complicated example - modified Kelvin Hemholtz IVP\n",
    "### $\\frac{\\partial u}{\\partial t} + u\\cdot \\nabla u + \\frac{\\partial p}{\\partial x} = \\frac{1}{Re} \\nabla^2 u$\n",
    "### $\\frac{\\partial u}{\\partial t} + u\\cdot \\nabla v + \\frac{\\partial p}{\\partial y} = \\frac{1}{Re} \\nabla^2 v$\n",
    "### $\\frac{\\partial u}{\\partial t} + u\\cdot \\nabla s + \\frac{\\partial p}{\\partial y} = \\frac{1}{ReSc} \\nabla^2 s$\n",
    "### $\\nabla \\cdot u = 0$\n",
    "Link - https://dedalus-project.readthedocs.io/en/latest/notebooks/KelvinHelmholtzInstability.html"
   ]
  },
  {
   "cell_type": "markdown",
   "metadata": {},
   "source": [
    "Links about KH problem - https://en.wikipedia.org/wiki/Kelvin%E2%80%93Helmholtz_instability &\n",
    "http://web.mit.edu/1.63/www/Lec-notes/chap5_instability/5-2KHdiscont.pdf"
   ]
  },
  {
   "cell_type": "markdown",
   "metadata": {},
   "source": [
    "### Creating bases and domain"
   ]
  },
  {
   "cell_type": "code",
   "execution_count": 21,
   "metadata": {},
   "outputs": [],
   "source": [
    "#For my animation, I used 526 and 256 grid points and 2000 time steps\n",
    "x_basis = de.Fourier('x', 100, interval=(0, 2), dealias=3/2) #Dealias to account for nonlinearities\n",
    "y_basis = de.Chebyshev('y', 50, interval=(-1/2, 1), dealias=3/2)\n",
    "domain = de.Domain([x_basis, y_basis], grid_dtype=np.float64)"
   ]
  },
  {
   "cell_type": "markdown",
   "metadata": {},
   "source": [
    "### Enter equation and BCs"
   ]
  },
  {
   "cell_type": "code",
   "execution_count": 10,
   "metadata": {},
   "outputs": [],
   "source": [
    "Reynolds = 1e6 #Highly turbulent flow\n",
    "Schmidt = 1\n",
    "\n",
    "problem = de.IVP(domain, variables=['p','u','v','uy','vy','s','sy'])\n",
    "problem.meta[:]['y']['dirichlet'] = True\n",
    "problem.parameters['Re'] = Reynolds\n",
    "problem.parameters['Sc'] = Schmidt\n",
    "problem.add_equation(\"dt(u) + dx(p) - 1/Re*(dx(dx(u)) + dy(uy)) = - u*dx(u) - v*uy\")\n",
    "problem.add_equation(\"dt(v) + dy(p) - 1/Re*(dx(dx(v)) + dy(vy)) = - u*dx(v) - v*vy\")\n",
    "problem.add_equation(\"dx(u) + vy = 0\")\n",
    "problem.add_equation(\"dt(s) - 1/(Re*Sc)*(dx(dx(s)) + dy(sy)) = - u*dx(s) - v*sy\")\n",
    "problem.add_equation(\"uy - dy(u) = 0\")\n",
    "problem.add_equation(\"vy - dy(v) = 0\")\n",
    "problem.add_equation(\"sy - dy(s) = 0\")"
   ]
  },
  {
   "cell_type": "code",
   "execution_count": 11,
   "metadata": {},
   "outputs": [],
   "source": [
    "problem.add_bc(\"left(u) = 0.5\")\n",
    "problem.add_bc(\"right(u) = -0.5\")\n",
    "problem.add_bc(\"left(v) = 0\")\n",
    "problem.add_bc(\"right(v) = 0\", condition=\"(nx != 0)\")\n",
    "problem.add_bc(\"left(p) = 0\", condition=\"(nx == 0)\")\n",
    "problem.add_bc(\"left(s) = 0\")\n",
    "problem.add_bc(\"right(s) = 1\")"
   ]
  },
  {
   "cell_type": "markdown",
   "metadata": {},
   "source": [
    "### Time-stepping scheme and initial conditions"
   ]
  },
  {
   "cell_type": "code",
   "execution_count": 12,
   "metadata": {},
   "outputs": [
    {
     "name": "stdout",
     "output_type": "stream",
     "text": [
      "2020-04-20 14:13:48,399 pencil 0/1 INFO :: Building pencil matrix 1/50 (~2%) Elapsed: 0s, Remaining: 3s, Rate: 1.6e+01/s\n",
      "2020-04-20 14:13:48,569 pencil 0/1 INFO :: Building pencil matrix 5/50 (~10%) Elapsed: 0s, Remaining: 2s, Rate: 2.1e+01/s\n",
      "2020-04-20 14:13:48,775 pencil 0/1 INFO :: Building pencil matrix 10/50 (~20%) Elapsed: 0s, Remaining: 2s, Rate: 2.3e+01/s\n",
      "2020-04-20 14:13:48,958 pencil 0/1 INFO :: Building pencil matrix 15/50 (~30%) Elapsed: 1s, Remaining: 1s, Rate: 2.4e+01/s\n",
      "2020-04-20 14:13:49,135 pencil 0/1 INFO :: Building pencil matrix 20/50 (~40%) Elapsed: 1s, Remaining: 1s, Rate: 2.5e+01/s\n",
      "2020-04-20 14:13:49,330 pencil 0/1 INFO :: Building pencil matrix 25/50 (~50%) Elapsed: 1s, Remaining: 1s, Rate: 2.5e+01/s\n",
      "2020-04-20 14:13:49,534 pencil 0/1 INFO :: Building pencil matrix 30/50 (~60%) Elapsed: 1s, Remaining: 1s, Rate: 2.5e+01/s\n",
      "2020-04-20 14:13:49,750 pencil 0/1 INFO :: Building pencil matrix 35/50 (~70%) Elapsed: 1s, Remaining: 1s, Rate: 2.5e+01/s\n",
      "2020-04-20 14:13:49,944 pencil 0/1 INFO :: Building pencil matrix 40/50 (~80%) Elapsed: 2s, Remaining: 0s, Rate: 2.5e+01/s\n",
      "2020-04-20 14:13:50,147 pencil 0/1 INFO :: Building pencil matrix 45/50 (~90%) Elapsed: 2s, Remaining: 0s, Rate: 2.5e+01/s\n",
      "2020-04-20 14:13:50,345 pencil 0/1 INFO :: Building pencil matrix 50/50 (~100%) Elapsed: 2s, Remaining: 0s, Rate: 2.5e+01/s\n"
     ]
    },
    {
     "data": {
      "text/plain": [
       "<Field 140032045708336>"
      ]
     },
     "execution_count": 12,
     "metadata": {},
     "output_type": "execute_result"
    }
   ],
   "source": [
    "ts = de.timesteppers.RK443\n",
    "\n",
    "solver =  problem.build_solver(ts)\n",
    "solver.stop_sim_time = 5\n",
    "solver.stop_wall_time = np.inf\n",
    "solver.stop_iteration = 40\n",
    "\n",
    "#Initial conditions\n",
    "initial_dt = 0.2*Lx/nx\n",
    "cfl = flow_tools.CFL(solver,initial_dt,safety=0.8)\n",
    "cfl.add_velocities(('u','v'))\n",
    "\n",
    "x = domain.grid(0)\n",
    "y = domain.grid(1)\n",
    "u = solver.state['u']\n",
    "uy = solver.state['uy']\n",
    "v = solver.state['v']\n",
    "vy = solver.state['vy']\n",
    "s = solver.state['s']\n",
    "sy = solver.state['sy']\n",
    "\n",
    "a = 0.05\n",
    "sigma = 0.2\n",
    "flow = -0.5\n",
    "amp = -0.2\n",
    "u['g'] = flow*np.tanh(y/a)\n",
    "v['g'] = amp*np.sin(2.0*np.pi*x/Lx)*np.exp(-(y*y)/(sigma*sigma))\n",
    "s['g'] = 0.5*(1+np.tanh(y/a))\n",
    "u.differentiate('y',out=uy)\n",
    "v.differentiate('y',out=vy)\n",
    "s.differentiate('y',out=sy)"
   ]
  },
  {
   "cell_type": "markdown",
   "metadata": {},
   "source": [
    "### Write solver loop"
   ]
  },
  {
   "cell_type": "code",
   "execution_count": 14,
   "metadata": {},
   "outputs": [
    {
     "name": "stdout",
     "output_type": "stream",
     "text": [
      "2020-04-20 14:13:52,975 __main__ 0/1 INFO :: Starting loop\n",
      "2020-04-20 14:13:53,233 __main__ 0/1 INFO :: Iteration: 1, Time: 4.000000e-03, dt: 4.000000e-03\n",
      "2020-04-20 14:13:53,299 __main__ 0/1 INFO :: Iteration: 2, Time: 8.000000e-03, dt: 4.000000e-03\n",
      "2020-04-20 14:13:53,529 __main__ 0/1 INFO :: Iteration: 3, Time: 2.688976e-02, dt: 1.888976e-02\n",
      "2020-04-20 14:13:53,747 __main__ 0/1 INFO :: Iteration: 4, Time: 4.578802e-02, dt: 1.889826e-02\n",
      "2020-04-20 14:13:53,974 __main__ 0/1 INFO :: Iteration: 5, Time: 6.468317e-02, dt: 1.889515e-02\n",
      "2020-04-20 14:13:54,212 __main__ 0/1 INFO :: Iteration: 6, Time: 8.356819e-02, dt: 1.888502e-02\n",
      "2020-04-20 14:13:54,452 __main__ 0/1 INFO :: Iteration: 7, Time: 1.024411e-01, dt: 1.887290e-02\n",
      "2020-04-20 14:13:54,681 __main__ 0/1 INFO :: Iteration: 8, Time: 1.212999e-01, dt: 1.885885e-02\n",
      "2020-04-20 14:13:54,884 __main__ 0/1 INFO :: Iteration: 9, Time: 1.401429e-01, dt: 1.884294e-02\n",
      "2020-04-20 14:13:55,101 __main__ 0/1 INFO :: Iteration: 10, Time: 1.589664e-01, dt: 1.882352e-02\n",
      "2020-04-20 14:13:55,320 __main__ 0/1 INFO :: Iteration: 11, Time: 1.777692e-01, dt: 1.880281e-02\n",
      "2020-04-20 14:13:55,521 __main__ 0/1 INFO :: Iteration: 12, Time: 1.965489e-01, dt: 1.877967e-02\n",
      "2020-04-20 14:13:55,719 __main__ 0/1 INFO :: Iteration: 13, Time: 2.152951e-01, dt: 1.874622e-02\n",
      "2020-04-20 14:13:55,937 __main__ 0/1 INFO :: Iteration: 14, Time: 2.340067e-01, dt: 1.871163e-02\n",
      "2020-04-20 14:13:56,161 __main__ 0/1 INFO :: Iteration: 15, Time: 2.526826e-01, dt: 1.867588e-02\n",
      "2020-04-20 14:13:56,393 __main__ 0/1 INFO :: Iteration: 16, Time: 2.713199e-01, dt: 1.863725e-02\n",
      "2020-04-20 14:13:56,625 __main__ 0/1 INFO :: Iteration: 17, Time: 2.899167e-01, dt: 1.859686e-02\n",
      "2020-04-20 14:13:56,868 __main__ 0/1 INFO :: Iteration: 18, Time: 3.084720e-01, dt: 1.855531e-02\n",
      "2020-04-20 14:13:57,088 __main__ 0/1 INFO :: Iteration: 19, Time: 3.269846e-01, dt: 1.851260e-02\n",
      "2020-04-20 14:13:57,339 __main__ 0/1 INFO :: Iteration: 20, Time: 3.454528e-01, dt: 1.846815e-02\n",
      "2020-04-20 14:13:57,572 __main__ 0/1 INFO :: Iteration: 21, Time: 3.638739e-01, dt: 1.842108e-02\n",
      "2020-04-20 14:13:57,814 __main__ 0/1 INFO :: Iteration: 22, Time: 3.822467e-01, dt: 1.837286e-02\n",
      "2020-04-20 14:13:58,048 __main__ 0/1 INFO :: Iteration: 23, Time: 4.005702e-01, dt: 1.832350e-02\n",
      "2020-04-20 14:13:58,262 __main__ 0/1 INFO :: Iteration: 24, Time: 4.188376e-01, dt: 1.826740e-02\n",
      "2020-04-20 14:13:58,515 __main__ 0/1 INFO :: Iteration: 25, Time: 4.370444e-01, dt: 1.820683e-02\n",
      "2020-04-20 14:13:58,731 __main__ 0/1 INFO :: Iteration: 26, Time: 4.551901e-01, dt: 1.814563e-02\n",
      "2020-04-20 14:13:58,936 __main__ 0/1 INFO :: Iteration: 27, Time: 4.732739e-01, dt: 1.808386e-02\n",
      "2020-04-20 14:13:59,149 __main__ 0/1 INFO :: Iteration: 28, Time: 4.912955e-01, dt: 1.802157e-02\n",
      "2020-04-20 14:13:59,371 __main__ 0/1 INFO :: Iteration: 29, Time: 5.092543e-01, dt: 1.795882e-02\n",
      "2020-04-20 14:13:59,580 __main__ 0/1 INFO :: Iteration: 30, Time: 5.271500e-01, dt: 1.789565e-02\n",
      "2020-04-20 14:13:59,789 __main__ 0/1 INFO :: Iteration: 31, Time: 5.449821e-01, dt: 1.783213e-02\n",
      "2020-04-20 14:14:00,001 __main__ 0/1 INFO :: Iteration: 32, Time: 5.627504e-01, dt: 1.776832e-02\n",
      "2020-04-20 14:14:00,217 __main__ 0/1 INFO :: Iteration: 33, Time: 5.804547e-01, dt: 1.770427e-02\n",
      "2020-04-20 14:14:00,473 __main__ 0/1 INFO :: Iteration: 34, Time: 5.980947e-01, dt: 1.764004e-02\n",
      "2020-04-20 14:14:00,704 __main__ 0/1 INFO :: Iteration: 35, Time: 6.156704e-01, dt: 1.757569e-02\n",
      "2020-04-20 14:14:00,940 __main__ 0/1 INFO :: Iteration: 36, Time: 6.331817e-01, dt: 1.751129e-02\n",
      "2020-04-20 14:14:01,162 __main__ 0/1 INFO :: Iteration: 37, Time: 6.506286e-01, dt: 1.744690e-02\n",
      "2020-04-20 14:14:01,377 __main__ 0/1 INFO :: Iteration: 38, Time: 6.680112e-01, dt: 1.738260e-02\n",
      "2020-04-20 14:14:01,603 __main__ 0/1 INFO :: Iteration: 39, Time: 6.853297e-01, dt: 1.731844e-02\n",
      "2020-04-20 14:14:01,844 __main__ 0/1 INFO :: Iteration: 40, Time: 7.025842e-01, dt: 1.725452e-02\n",
      "2020-04-20 14:14:01,846 solvers 0/1 INFO :: Stop iteration reached.\n",
      "2020-04-20 14:14:01,848 __main__ 0/1 INFO :: Run time: 8.871125\n",
      "2020-04-20 14:14:01,848 __main__ 0/1 INFO :: Iterations: 40\n"
     ]
    }
   ],
   "source": [
    "s_list = [np.copy(s['g'])] #Only save s since we're interested in the \n",
    "\n",
    "logger.info('Starting loop')\n",
    "start_time = time.time()\n",
    "while solver.ok:\n",
    "    dt = cfl.compute_dt()\n",
    "    solver.step(dt)\n",
    "    logger.info('Iteration: %i, Time: %e, dt: %e' %(solver.iteration, solver.sim_time, dt))\n",
    "    s_list.append(np.copy(s['g']))\n",
    "\n",
    "end_time = time.time()\n",
    "\n",
    "logger.info('Run time: %f' %(end_time-start_time))\n",
    "logger.info('Iterations: %i' %solver.iteration)"
   ]
  },
  {
   "cell_type": "markdown",
   "metadata": {},
   "source": [
    "### Change outputs into a numpy array & define plotting grid"
   ]
  },
  {
   "cell_type": "code",
   "execution_count": 15,
   "metadata": {},
   "outputs": [],
   "source": [
    "s_array = np.array(s_list) #Convert list to array\n",
    "\n",
    "x_da = domain.grid(0, scales=domain.dealias)\n",
    "y_da = domain.grid(1, scales=domain.dealias)\n",
    "xm, ym = np.meshgrid(x_da,y_da) #For plotting"
   ]
  },
  {
   "cell_type": "markdown",
   "metadata": {},
   "source": [
    "### Make easy animations in Python"
   ]
  },
  {
   "cell_type": "code",
   "execution_count": 18,
   "metadata": {},
   "outputs": [
    {
     "name": "stdout",
     "output_type": "stream",
     "text": [
      "2020-04-20 14:17:40,277 matplotlib.animation 0/1 INFO :: Animation.save using <class 'matplotlib.animation.FFMpegWriter'>\n",
      "2020-04-20 14:17:40,281 matplotlib.animation 0/1 INFO :: MovieWriter._run: running command: ffmpeg -f rawvideo -vcodec rawvideo -s 1000x500 -pix_fmt rgba -r 5.0 -i pipe: -vcodec h264 -pix_fmt yuv420p -y /tmp/tmpec0ftb98/temp.m4v\n"
     ]
    },
    {
     "data": {
      "text/html": [
       "<video width=\"1000\" height=\"500\" controls autoplay loop>\n",
       "  <source type=\"video/mp4\" src=\"data:video/mp4;base64,AAAAHGZ0eXBNNFYgAAACAGlzb21pc28yYXZjMQAAAAhmcmVlAABh521kYXQAAAKgBgX//5zcRem9\n",
       "5tlIt5Ys2CDZI+7veDI2NCAtIGNvcmUgMTU3IC0gSC4yNjQvTVBFRy00IEFWQyBjb2RlYyAtIENv\n",
       "cHlsZWZ0IDIwMDMtMjAxOCAtIGh0dHA6Ly93d3cudmlkZW9sYW4ub3JnL3gyNjQuaHRtbCAtIG9w\n",
       "dGlvbnM6IGNhYmFjPTEgcmVmPTMgZGVibG9jaz0xOjA6MCBhbmFseXNlPTB4MzoweDExMyBtZT1o\n",
       "ZXggc3VibWU9NyBwc3k9MSBwc3lfcmQ9MS4wMDowLjAwIG1peGVkX3JlZj0xIG1lX3JhbmdlPTE2\n",
       "IGNocm9tYV9tZT0xIHRyZWxsaXM9MSA4eDhkY3Q9MSBjcW09MCBkZWFkem9uZT0yMSwxMSBmYXN0\n",
       "X3Bza2lwPTEgY2hyb21hX3FwX29mZnNldD0tMiB0aHJlYWRzPTE2IGxvb2thaGVhZF90aHJlYWRz\n",
       "PTIgc2xpY2VkX3RocmVhZHM9MCBucj0wIGRlY2ltYXRlPTEgaW50ZXJsYWNlZD0wIGJsdXJheV9j\n",
       "b21wYXQ9MCBjb25zdHJhaW5lZF9pbnRyYT0wIGJmcmFtZXM9MyBiX3B5cmFtaWQ9MiBiX2FkYXB0\n",
       "PTEgYl9iaWFzPTAgZGlyZWN0PTEgd2VpZ2h0Yj0xIG9wZW5fZ29wPTAgd2VpZ2h0cD0yIGtleWlu\n",
       "dD0yNTAga2V5aW50X21pbj01IHNjZW5lY3V0PTQwIGludHJhX3JlZnJlc2g9MCByY19sb29rYWhl\n",
       "YWQ9NDAgcmM9Y3JmIG1idHJlZT0xIGNyZj0yMy4wIHFjb21wPTAuNjAgcXBtaW49MCBxcG1heD02\n",
       "OSBxcHN0ZXA9NCBpcF9yYXRpbz0xLjQwIGFxPTE6MS4wMACAAAAP92WIhAAU//73x0/Apuj5Zsud\n",
       "RT0hMIrY+kgovVjs0DJ1AAADAAADAAADAAADAVwNHk1PSmckNCQAAAMAALm1yeYHoL5pXMAVJ04z\n",
       "kG9QeBuzqBA4PPh5n7gwru2H+CBSULYyOaQyGRslLrxhVLwA3xQH5X51nC6Jht14HuzZ3WHlf/B7\n",
       "zdXBh40WLyF6Hv1geivB0UbLbkSvHbvtJ/GtH4jsFNUFFskpMnDFeVeaaBrzjrcuXPpVeS1TwhHT\n",
       "6QbHWkd+/KjEy/Fqr/Q7D1Soj7xG6GzTGcsNU/0PeLehwSVSukvXIoP8NcXalxE5EkhKDH7DGWbI\n",
       "S0bJUZ3wPeN88lUUKOX3RJS6+tYMSVD7vV8O/CRqBbaiiiNYNZcadLFyfwp6OysMuxkebl84c17+\n",
       "DarFzzEHQ4UG1H3lzfmwkdfdNuTuhaOGCDURxaXjcAWlLSFZoxpmusJ1WyQ2xD0Fv7EZk8D634m2\n",
       "S8m3PKAQ8rNW8grcQxUgy4rSrJq1fUOkgcFHKc5pm62tHURjvSfRXf91UOhpZh0ylZWe23nq4diz\n",
       "mS6I5UVhkfRLn1ujJQRSjZjQ17vo35b9iRc7oWoFeWOoFrF1PpvVjaDL1W7alGiJjDJtlrp46Snq\n",
       "LyO975E69T/8SgLUgR486LmePSKsSrBULTI6KZUVzt4OjRPkpCNIiaA6f0ZISgDdzee2NLkKkvrh\n",
       "tu4fx+p1ZnkV2NueBUg3B36St8aB2Zgom/WFSSboSp6FQHh+Cv9L8usSs5TKiQ0q/rZ7aZ+8V/zN\n",
       "FHmDGXpxdqplAdzJo3fPKTp7I3Uhj7KCOfxxSa1yhGO5LD4dTnlk9wUid5FhgiXbpSXAgI2emHPy\n",
       "HiK6hxRq5trxpqJhtXoW6c8JgpGFaSURZA3BzshyjU7uKU6rfixsLpHtLQke7hm6ksr/ENnNdPxy\n",
       "6A8bPtJV22DtIjBZdJdyZEyNbid/Sr58UQiL9OcphZtQ7wSPlmtYag4hIFAfyRDwFjWk663EKfM/\n",
       "0nHotqgHuFsgL9Vei0m2gVkC9ylzBnHHWTAfNurdkn2ErX1/k9D8+U3/mLjr7TLPcJUWZs/wgRRr\n",
       "gGLemzpd7z7pf1/8XggPp+BvzTR47pMXPARxdbigDG+QdHpcUYlzZZ8Ep1zOEcZRCt1uwDnJBh+5\n",
       "hlos0kt6A6TI3intvlPoia7d0DVmGyls8U9rteuymhI54Q4rJXTMU2AOiEsY6d67KW2MS5SbhDc1\n",
       "6WO9/ZY0egtwfo9Oa6dmKDnZI+oInArAZwDifvnH9giwobaSMhoHT0n//84JvF/hRsV62jCvOvBB\n",
       "CIukZ1E1G2ib3IEXf6mA6Op/9Rgu2khRf8qyWXpWdw11ZZtSbOukdbCMMpO0iAP/68ZmbLjMV2Xm\n",
       "NZ02FiC6DbTjKGUQkFe5TAR1nWa+ZvV5/HSQHroyhBE/syOfTdoadUTy1VEE3E5Ck+Fktbp5hAwN\n",
       "VZNODZlAjbr3qwiZ0FI/+HkekdGcz6nglajwLpZIFTwjDj7j444RjV+eGyp9bGcQhRAcg1JsvR6d\n",
       "u6Pvyd0UBKYFakV1FNsPfwhD6KI4XUz/5xWbhgng6zH+U2NDbuU5a8IK0APFQfSomVS3vCjW7zKl\n",
       "5XYQbHGw7xF+vEez59hn4Q1WorXkWzLG+L0J7Ag0xuhzrbGyMNyN6nPk0dH2IcoSH6u2H2VC82SW\n",
       "8u5guMHvXGJDzSeyUVPmesvPIExq7lDSHnwK7Dam6kMs9nW7TosAHRmsBPlBmhdGJUnm5w4i+gVm\n",
       "irmKQMZpO7AZgoZGtb0cF7lPiSXMc1U4UOxhDr6ibzKEpcPY9dsk0YGck1hHhm58cmRuscw42/Kn\n",
       "swOO9WEssmHIgSeXtGOzEOWsgYR9dgh394cNm+604DLII4Ch5q0eAwWfgbEZAKzaw/f3IgklXcMa\n",
       "jNqVT0K3IDI0/dnGxavw26wOPzkOlRv9b2nr0IfMFXfL0qmrroWWXarIVmcL5y3yHsqFuxpfjvq1\n",
       "QR5FVDa1cIdYrK3UP5P07VnJ4p6blmsJSbai00aQjwAfNK5mWdRSJck3PgiWOPN/PHFMaWMEMnlX\n",
       "7Hp3ZlSGbDybmyr+wh7ukPjGf4+1fM5tjrhQ3jT1VLNb+f6JWeIN5I+wThSm1lK6MyY///77241a\n",
       "d9amkpUggiohaG6mciWt57+7vwYHrKOOaPUghHoOCA04oIMSznMhdDXGRb6yQJtRmRyxFwEZLRo3\n",
       "+LicM2S9p2xvYOy/uzIHPwGhrF5W5nr0T8OV2kK5/GjSO9fV6W2+3F24g5UL1AYGOk6iNFYH3eT/\n",
       "uiPE1UfovEdeTuAKbDATWuCIiCmo28b3J2CcDkJDr175Kc+TZ1j/JY/O3Cc3ZepSrP+YatYLK5AB\n",
       "GebIMRRyRfWZPr5J0Db4DdpnO8Ean8Q5nATUnXcQAhcExgDxHMSS2iO8wG3Uc4n8Ur1x3teWpOHs\n",
       "A4txLO+jChkU5Y/UkXBXWJSN/MG/LoN0DCIhx45ye06I/G07giLxIHUhJkl1uDj6Km65JE+dXi6U\n",
       "CQG/ya9u1wd+SnW3MeeSwsGOxa9/5yHnPQ2sbwVT3PMNf3TlVDMCgJFZwILi7I357HWFOYX4Gg9F\n",
       "iQ4DS6yTaTSnAUhTQHh+NioCaQRYsXHsjMy7I4kcRNzogSKOsSEClGZCxYuVV4glhRGCbmn3oy9s\n",
       "oSz3bmcQUqwmrg9y01DW4R/Oweu3gsaXpHYpDviRU1N7P3tu2kIcnfl+qrGvFqHWagqzf1ogELba\n",
       "RafEtN80QsfZhLj53eAj6pygfgy25+TZ6VWHmle8z/SS62MR0fVFg8IR2SwuFYv/y8Z/wOwRKl+W\n",
       "TCNODv4gM5QpPCd8bv1ag0KJ9uEGMgtoldvI8dN8chKbAdR6ZyMVqrTGw4W4/Ntxfj3gOFRDcBne\n",
       "LWZ9F+dYhVUkI9D89Y8P7/+1AfxzagkKCDi2fV3t3MTOq2K/oSFsbHjy4H09joYLpfPpbxM1/H5e\n",
       "t8tL0LHqzcroCR8DyGXmUm1Pn/Y6woc32tVCSwVYBViE0QrTqc/k4+EBL5K6IOYqwcvy50fniP61\n",
       "+iltShDPECfmyvcvdZoVNcOmEaQYPLgA/RTCHf7/w56zb0wEhYAQ0+M0i6YMJ8btLbhHvtliDB1Y\n",
       "mHVKEqOdcBO6cTbDbTKTeOZUip12e46i8yCylnCLGr0PKN2vzQxGsGGK40orYgkwqMRKwkEX6ntC\n",
       "8+fp8fga7oiEyA1XSA5hhzd7GdTBQjm9vRqQ8gLKeOIZNqWUP3nyTpKeDVmEvjmH+C5wmvVKro0p\n",
       "C4sxuonuTm8zm8zj7reFXcdy4CPxJAlEBnRZc28WtbRdEJBkFmC/kmOaeJvG53wrW4FeRWiApSiQ\n",
       "bazG5UWU7OpsTOIl6b3a2bd7+uyeQbeSy0i8lUrvr/qP1RRabXciGOkusHKghZ5yC5mC0h2fjFJt\n",
       "5+59sxoZMK5vwS/f3y/9eXP4j0FqyCH5C53MVIT0oZDHirlDaoMjM5CGgSmp7mThRWTfpFQS1uyS\n",
       "bvvUK+gIIn9lrSScQzBWQN0mraNkBOy+D+FWflcVv9RXCgbss480JRgo0UHb3+FkUFEexEaGKIuI\n",
       "WrtkoR1sVyb9QG8Sh015dgMKFg9Y631auo8eYRmvwawYTwjzRp/bAqTGXwpBesimDPa8/DuYDxTQ\n",
       "P5JSwI5dSPJ6IY4qecYcoC+iYpIksyE/6kE/N9RTifkcFxSugHXAeryR/vxPe8NN31XPnhT74U3N\n",
       "CPDpBI/xoW9gMJ10LFwkP/K02GOn38o9NMJOgA+lO/cx8w21gcDi7oSG66Fkpeg991T30W4r347S\n",
       "JVyJJybkSiyv1YPZjZfKT22lRj2wjswLHgOHS48tmWU6jKNqFoOO25W/z+1TH8pfRcDmR1wdZemB\n",
       "gAlgDL2QsP4w/S40FfMJv5n4B0VAaHD+/flwqY3aEvMDVq3ywOPLtPEBwlDnAA/R6ZDP2nRv+QhX\n",
       "WJ5x7w+SLC7Gf2YJyAT0YAAAAwGTv3c0EeogaITeEECg6oB9n1uBYr12CKGYcDFdP/SVc8KxBCWR\n",
       "99srTZ2NUMaa84V7IJMr+H9/9ADOGr2zW2/vYTaAAAAEw/70XftftGR93gbg4xc6Hl6SkXH+Y/82\n",
       "aT3+9/Yv3shU42ODFc7IZoRa9kVIB6RWvN+9KD2nxzLsiNrjO3ATUjXM/x5WhOYAAAMAYkbnkk3Z\n",
       "kYuO+SYCtq+mBQT51M3/z2ZtvkIC6Nn2A2NzotI9WewhEx79lCYZgOWGbuqz2WAeUPlUkC0ZdYyU\n",
       "T0U8bHWnjgDPcstXO5XEEZHbHL+WhxWWE/412DBe3G2UVPkq6WIua8Fl+MpYsjC5oSKfGsaRewkt\n",
       "gmrNfcBZkTaoW8YgCJ/56/9j0K/31ArM2NY7qXL6KhdTVmI0PEZfd7ZzBX/B95zw1btGVYzSw/TS\n",
       "KzE+7JAftjFTTVmVBHccyYw8JoSupitKQQJ4H410JZ+IjVpgCT5NTLaQitiuUHh5Z5OU+yHTZ/mM\n",
       "rybYFuRAMDShH9NiHpZ+tPz9Tq+l+t7PVz5E3UJ9YWRUW2hqvrgmG7ugo9NXQ7M5YZJZbxVS9IJ1\n",
       "LkK5aBHwUYD0cmjEYxH78aCoAGsmz9NNwKV++thPtXfCvyEpb2poyqyhM+y0QQYVqZ2azxI0ZPAA\n",
       "5HD6qhPvuwsTkbssCHXTgp/kK5U13cBi6T8a4mydT6lb1bu4gslnBz20LPxYnH6x0MBmS8+uhPj4\n",
       "NlMvWsJtgeIqVhPgl+AEarcYKTbpXaymNkx/yUAzPBGsxv2wO3n+RfyVEUjTrNgw3sk1Dok/mlFd\n",
       "TvA3E0vWMlnQVy55lo/v3zjZ2wlWylk5fcOQYikQ0wbnTvQUr/XzWo9YbEjdRIP8KPMUKgSU2fuu\n",
       "ul6/KMZar17bvrDEXv/Dr4AieVib5vydNo1iBBV86h3ujAAArO+13dOi0/I70Jgw3iwrQHwAAAMA\n",
       "ExpBVAgHs/qwErd8gGO/uQSJeFA3IfMCRhZAJG4f5xYqRw/evM9cxPT7K3VpFyMyPRD/7wcgqI43\n",
       "6mDBavsxLK7GdGWDP9IzZHAN6Bx21dzx3TIp3fJuNzuDpf2y5iGVt0WOydyPU5mdMB7gNs+b4x20\n",
       "YNNwfee/Xc4YH0v1DjbB5vaf1qAEKOTlrDiahrWVuDX7vwfM5yiAuKgoZLSkLNhD2Wgq9mxwtpYk\n",
       "gAxMfaB+NhX77sWDMaO3+se5LjHgtv9S31IigubYqUKtDXEZMdpMuH887A0N5DYbb2vHDzNepqTL\n",
       "VjWeOgpejFz1lzcUo+Ltv8yhWLRZrOGtY9ulQ/nwMv7fyW9TuaJhiIOl0oMH6q+DYWqK+bRJBede\n",
       "CBjhbDpj/u5v3bPHiP9SqS/UeEQ8Q3k30oLxomaWXy6WiEgTY/9OXe8hv7FDwV83HekZkryod5rV\n",
       "ef4bBNQSAAAE1APW+QAAAwAAAwAAL6EAAALKQZokbEFP/taMsAC7kq1AAWJSAo2+4EH1+pHqOd3D\n",
       "hPiP7rxS20bnuozCz39gw3XrjdQyLyIo4tZs1LcT+AbE9C7wNRsAS7xL2ACtSfkfkDE3Ig7oMCt6\n",
       "5MHc+gVng4av/5BY4i1VHZn06tzDNnk+wIBSao0+1OYlTbXV6p1P8jHsadzL9SRy6uVa6YwZhzI4\n",
       "RZ5q0xrhGcjhD+t6aY2mlum8xQ2BRVxRy3wBSnkBKhoPuiaZGp8p4dTPlsDR+WPWvq7t2RIpW4wd\n",
       "s5VHIjBF/7/i89XRKQUgELdJsRvR66u83WnpIWKPMmrbtXzch8mQVw83iv+YNVyA4Ux6bHRvDWBy\n",
       "youd7Kmj4MEXIdVE6zIAXuDn38bDaiRL5u6gVGvup5I4ARbbUBZbAwi37fLrREKHWLRuy2q0z5TO\n",
       "vCMNEmo25BDYlpd/3NHNVBObzTulrGuGAV5ZzPsP6CRAeFqINyWG9jDGQbllAiiApadpHgo5n/YP\n",
       "M/+MLKLfduxdpTIvieerwotO2OGVtjTzR15q2jm+2EDEw734/NgbHe5giHVH8k1byYnVM5aubwmi\n",
       "cuLgn+PrMAyqITM4Aru3RqOHVqGfXvjIY4dEacjL7Fsqit8nRH401FClfJsNVtMFsAAL7b4CNhsi\n",
       "aCAn9elEhwrAoT0QZDPN1y8xvtxB0cZGQ0XWOTTzks0LOy5G6cSOle2bzJk4jvx6lidvCOSXWtrH\n",
       "Z59OKEoJnPIbHZZA7hjCIdL9Mh0vU2IbPNDaxyASD4m0orJFy1mOoW8plyjjIsfj3P1Jb5mEKyql\n",
       "whyiIWf6TbnkgNNT7Givo4bzUB3QkfrGgyk2WVIHrG501iOs7Z6SOIww7Zpo6EZzw93KvnhYZfmh\n",
       "fn5u2f9OlFewF1psjFyyi6DudAPXT33tUQugAAA31f8dA74kdcPb37F6KZJiVmZlkUNL9f09CE3A\n",
       "AAAA50GeQniCHwADiT4TLtzfLtCUCRACOKrtrz8ikHSPnEILsF+LOgX5tVL9Zosljz6gdX1EWf18\n",
       "SyuNohpR6qzMQCQyLPk8xI+7+tq+tHHlnRf1KoJtevZ7hmX+gya3ZHviAcuOxehFmKswpNidSOG/\n",
       "ayhUw3x9C68Uqmdu0EpCYaSPM/iZNWGxoySqLb6HdSVYPRTVxPzMQBG2pMRLNuggdQzk0cYgpc18\n",
       "/5Qk3mq5+WRlKEEvpNlYOgugHJtjh1CV0xHDrPRv+xE0pfNUrP43wvTGUKu2AGO45dgcp2SAAAHD\n",
       "AXQ1l/lxcQAAAFUBnmF0Q/8AB8K+OQgYmCdVwjvwAI5kqdhAExsct85TRpZU9o5T3CDJwJ51+vqT\n",
       "GwwfqgALcOQu/Ap7GGM9Bj6lAQPzTtGViaz5LRsFAAA+Nt8Cil1IAAAAaQGeY2pD/wAAAwAACSwb\n",
       "h1dV0flet7A7MAwCtLYAHCpmCVQCunxvuCNE9vFY/0/14d0PBRpCeW8VahtOgW/z0nbEjtbRpjHw\n",
       "u2ebdm1PfpVDB3l7izlOdTbYCXeAABzoiGeQAAAL6fSoIQAABKVBmmhJqEFomUwIKf/+1oywAAAD\n",
       "AAPRBheAJpaeGY8o/Mv/XuardrQTh81/NdvwEeC9BhgRQFzgFuaQRGGB5O6avi6U6cxMe88lMNCB\n",
       "HIUxIHuLMTrDzfllmQ9kTogHsd2NfCs4rpQ368Rp+I3s20LRBl8iDfN6B+j5d/JoBc7EDmW1tz/g\n",
       "FEp4mG3tPX7nNErqSXwCFWebbbB8DlwIiiUDH1h7XtfgYVRQNTSovWX0o0B9n/BT/zD3875eJ1GY\n",
       "H/e6mrcAm8Gf599yHQKMew7C6zwbvkTsyNHel5ErcBmZMJq9DhSVWjqCx2eHIeqqRiPapgY/w90K\n",
       "Ykela9vukf1me/Je5TK8nWuxsvFbcmYEKarGdcaYj5PZM/yri27Q9RojFDFVuLhyMQM2+Jci/g83\n",
       "tOcLb9mSGbGBjD267ejRwCGlKICflOv3m4Wr5OMBHNJ3uRgSiknP4XAUvwKUfMpWPuwMlSrawU32\n",
       "ikdzyx8NB9rwfFr7h8hy0ciseUZYtodEKo7V76rH4nMVPwjrjhCcYl1xMImKylfyCP7fOj06RipJ\n",
       "vmy8PFbnIQETzxM4bk440ucTsjX2VDyAa2o6cBTTDu86OTCQzT5mwqynggOJbS4fLM7B9ZixSS2G\n",
       "k4zHu/SDfcnORCpRZlKhw5wOtj6WG9PlMyH/WPV9mmbnaWMD0ZBePQnC4I887t5Phq7veWUYJ8Re\n",
       "Qtv6W5J0hrGu4pXnkdqGL46Ep4PaIt9EE/cOkVGYDQem7PyiV6EUf0+GpR1YOeDUMPNYXLH0eqS0\n",
       "loLok8+n3CoWnL6fREKTWnKJgG+JlzaohepeIcNKr52+FjfGSwPlHQGcPx2+8OaeBHhjopGgiDTg\n",
       "VqGVBEnnKI+sBOhHlENcFgZGMD/TU/sc8nVjDnIwQKQV9kQgHUdYnEKPDX9U9ZYc6CfbV5M/d0qZ\n",
       "xft4TBMpgW9pqbUTcJPjCQtxhFHBw7G6KMNS9O0Wp8CrM2NnY5PI1z5FCyd6o9IS9M7pt4SYwox5\n",
       "VEJsFqf3sqrBw1ykHNkz3oP1XnrH+TuJRytjU/6GpVz5fL3bx0CoxivslG+limaNYE+WNciTez+o\n",
       "PsrBdtRHqirGUpIl3ZHt1hqbErNtfEsYxP5N+zysDjxI+DTF0gfv+x4Xg2Q2UILQLErwMlgXrWMA\n",
       "H3Mud3fe7YTSIj6ZK2Ni4kFJpp4tcdO02WZMi0et92W6TTPGI62riVPmynvuQgNnLiGhM+RUWaUH\n",
       "Rul47jvaGraeCoDAZOKSHzpxZ6wn1VEEqpct3upB+AW6GofvAtR3ImRx5Y91sGCjBP+a4RGFRNu4\n",
       "exhWy3UbSrFQQlyp1UrmTpqFf1yW2hn0/jQvSgl2GmW1YzjHxsXMBmteDkvTUAOspWuT29EZgwAk\n",
       "orw5Tivv8zyOJDe6lukACJdBTj2VHxfc51U5GFlBPXmtrszEbERaLF+cT4FSbCt4PDGB5qpwA8mq\n",
       "fFWkgGCDMGOPcgI8KMGwAGpWWbq8crgnG0irbc9BX4uJWmnpaNRt1HvHi7l/gEUke1lcwdjy6sKK\n",
       "LX0Y4OqcJnt4VjEkRoCRIOIMBHIT/RJx2WnshO3/AAABDkGehkURLBD/AAADAAAS1bXVdrrBBBV1\n",
       "4JAQ+p3lCuwwY8r+vdahyNOhgg8pvJYwcC1ulR1FDBiRGplDXgdiAlQOvcjUAqDkfsYxVRxM5MdT\n",
       "NSIeAVMZWdKlFobSj2cxhhmChsUCQfrQX6965r/UrwEZRsH2Xav7hl2kfHmZh9+CK4Fo99sQhDas\n",
       "JE6TFwaHm7cLASasaJivA1Vl8gnG8u280czEtfro3NrFscxNL48lDSx/1xlOeE1mfhHk0VjI52fA\n",
       "rJsl9Dsu4nsO66x4xIv7l+hi4MF3Y/i68Vj2n09YkcW8mHnwlUxX3mmK5vgjQnk1l12bhy8caMes\n",
       "FmQJe6/fKaDnQAAAAwA1aEoJmQAAALYBnqV0Q/8AAAMAACSxlyAzk7mjBxtLUCSDyU8giAOs6Ufo\n",
       "3UuSCbj9K3oAD+nYHJE/xLhyqSAQZWU5N097qkC1ZSvZ4U+Jzp5eE7NrDQCnuu5AeCWu3tkB4ysT\n",
       "m0+6EsqABt31KFdCJUJ8jkNWA5c/AKSbRR9fK4+5W60gEJZ6Zh4bU5ABIHQmkzulG7aZI4WKvvVZ\n",
       "eyMmlW2B3BAbuSSRX65qTZIPKCA4b08by8iAAAADAKlVWwAAANkBnqdqQ/8AAAMAACoI+aje3Sug\n",
       "2W17jNMQGWl5t6Aqz6F73LvPWAoSvUnQ46bY23vb+AqyIZs+gDzDxSXxnTm/tLSfKZCjsxZN9nu2\n",
       "pJGfW2EQw6oASD7ep7XXFnGtqV3uOjMPyWhxI46f/ohZi8we6dWjk3kbuAmdOFzoxTu8DS1pKnIL\n",
       "+oVDbDZi3L+6GxZQ/IeNHJTJoEZ30KFX/qJ+5So2SpH74/Ks5HQwWFqhSbRQ5zY+9lCTw4jSmp9h\n",
       "uIOg33hhj69lkRcQvSwqgAAABosCKY+qKsxYAAAFiUGarEmoQWyZTAgp//7WjLAAAAMABCHJwwCR\n",
       "1LOzdzpiChTOrjvwv7d/AGlET4LyVjFc3/5yoY1jZxChmgI70VYYPHLuL+SNEpyeQuU6LdgUwUxO\n",
       "BX5SRXJRHdhI35G8+LDeN9yyC/RfpAwYGddU6u1c1QHzGaO4kHLZwhc4vqkGt6A840haCTopiI5U\n",
       "uC8/UoOrPe5/jbeuvIazhUPaqFZ8F9/ejSiA1mK6XF3WidDV0UyezE5wpwghD/bs6MJB+ViocRdi\n",
       "p3Db6e3aHu7hw0H3+i0jC9UDvJMvxSQ7NgaX7dYH9eZc66QuPmF7KPgs3HkGnBBDor/GKQZWEVzo\n",
       "oBJ6CmxuYatm8TJuIURrHJkpIUGL2ZeYdxbWMNBoae/M7ueW8wLa6VXTBp+6UOeTjLcFnFE3WUxE\n",
       "P76e/C+WWlW8onbL1G2DUAQEY2HGrBUqcQrSXAFyf6feMrno1K+EpQYP5Iwwr8N+Vt8fd7NF6feV\n",
       "H2ABnBTId3UXrJVf4qDC4yuTC7Qv0PQHdcdayCFXxebOxCpkM6dAeFkINCukrGuiPk3/hATrUiYt\n",
       "XpWW86o5l0cYpIynIV9W81RnMGS4A50wcT1SIhfTHh97LlzJI8D2WaWFTLTAwLko5ULpp3rNQy9X\n",
       "PH7DzvJrS6feOgBWSYIJnMK/QLsTOFmZEUbYtScUb2HlVQkH23qO/wPjV0ZklHB5xXKJPqN6u+3r\n",
       "+nwznrEqgSO6Jk3QK/iENKqRzUzNe3LjQLnEHRj2DmND8ZyWm6sItS4DcsuBdiyOE3F4mYi8KMxV\n",
       "Kbs5GPrH7A32FPNjKmU2tJgrzJPVKWiXCHQeDo7bieZ8vTJB1a8Mn231echjnwAMZQ5CM9KCt1a5\n",
       "zsKlIhkozh6gXuCf8KANLDI/aDl7APZGTjRGyQdjBvdsx8XROFWj8vmZugMeKTkGUyNfVzLWZ6JK\n",
       "F+u1UNojI8HZ0o/iJhLIzaf7RkAgg6WTK/qWpGBb5WJFYxA1Sc96iId8GNgpQuJbbaLqw0QNTPAd\n",
       "BOL2puIEsyMW1xoO7yescCjK4iguIXx4cDNDlUkKNx3nNZ4It0F0rwg3zcQpXmyTMcrANraZZOkr\n",
       "qKNQR8Dc7deiX5P/M+W89axic9Tyinwpb2kIVsFvDa8+1pL9yyTNx6Fu6jODXFmPokPvuSiP5wa4\n",
       "1g0lBVDTHHsEEH+DvLVWtNUF9J/gQjbTDUzxZHBnTgkvvPabSzqJkqIbA8ACbdIdZP8KVXsIxqdo\n",
       "S12oq07/plovuveaBOJFLMD1eHKQUq7y2dzDC5N/sLjYIWjULMT7H57KkI2IsJ+N0IYGNe/5oRNj\n",
       "gWUm77KnJGEGfBcWJhA7k7dQNoimbpypAHvNB4B2IN233qru+TQMyu7wg7ejaCPHkZ55oN3c/tpn\n",
       "yizWhJJqBbHk+BS/53sIoo/rZOl5At9OybdHO9CozjQudx4S9L810yF6jY3IYPX5F8GovobqTRRC\n",
       "IUiGVjRHr+XfmphXEgAMwXncdngaq2jKgHAPK5wnPOHKul2YrxMGKVt00jp/IAjAlQlgFrrAm1h8\n",
       "fx38XHQqLHC6g3Ibvwsb5AHhEwPEm+odCa+bC897lNqch2RPD9wiSZXWs9LZQzgN9jhyNXDZi+9E\n",
       "hQFHpoxns/l9VtrX8ahFbXZFKdrEwsFzZ8IvJE+MI2qCX+r+sVEid6rdo3Bn/JHCw5BMAwvtVGA2\n",
       "kuiQ9JCfcffRPtRaX8Zpo939JMn/J3Z5o20jOdlQqvcIrk80GqZUMcquOvyUUO3OONHNVGuMl3IZ\n",
       "P00Wx8oPozcQCg7lmJpnttVsGc24MG62i8akyQCWyne/Ng3QinWaWBb+Go+rnQw16YoyFVNoEsrM\n",
       "vNAuSXVsHeEGig19VV4MCk2W01KcNZQAAAEeQZ7KRRUsEP8AAAMAABRxer8Dcv27ia6Hm8t4u/qD\n",
       "Zjz2+dsbRyApXJ+M/laHF2o4E61uexPDUUACgKd9QkqmL3guvkuTj/eXY/pN0NPnF22VG6NGVZmA\n",
       "CXt8GdeROnjinO14lMOPaTvXNj3m/u1WSW+DJWrgv5wc2akxc228qVf/alU0b1OmqnUJqhpayJsb\n",
       "7qCfjJI7SEmkPVpq2CyztsUNzgPn2v7IzNGqrAcUpWg0YD1HpZxE2Ujdm1Dl4AImsfq2jftpesZV\n",
       "YQrrVkJ3mFQzBhz8amSKV0rGEZGtsunH/fj6BNCaqIrBEyepM0C8Lh+ttSh4eyq1+BIczlkCqdPd\n",
       "3jotYOsao+XHipcDnA+LgAAACrIoSVh6rbALuQAAANwBnul0Q/8AAAMAACxKVJL4mTEJRCaiPtu6\n",
       "vTqjftOUp2+Kzy3N1WyPX/d5CnHhF42cRs97W/xWP30Uywkp5EURubDVIa8WSFGyJ7MQlVMwMLOV\n",
       "+zxVpmBLTdd3lK/MABbkpNKhQWrzW8MDo1GEo9EL3EAM60XLYy/Vrw2PnilMEzV9fefwVslqXwC8\n",
       "ux5NSj0hZ5tpesLTN7zdpliY99AD/KxQt3JnPeovXE0WdaxUmu9cTcPISX7GgfagRQX4DZuaMeTx\n",
       "sUxkfaMm4ofgu2KsWR6QAAADAALOSApIAAAAxQGe62pD/wAAAwAALWj8p/V2safgENuHkjs+W4n9\n",
       "MDDGcsw1xpQaPa3qt2m16ujQBHH6WhlhN/M980R68llsEQJGNultcT5YmWulyBm1U8LKzKOM+rgc\n",
       "mVojiPcsHm89UVyIMQdpYDoLIyJBj/EiqtW6UhR4VakwCm7rjkAZsAmNBGHcdb0inp35nWrSTDht\n",
       "jGxQ8E9d4ZJraenfQRNkEZ3B0vgSEjRfFLvaFvhIYu16dzzVMbsSxRAWzq6gAAADADOFazpgAAAF\n",
       "pUGa8EmoQWyZTAgp//7WjLAAAAMABEFCC8RelIHH9Q1+6qf4jfF8PM8ZndzOsomCXkgb8dbh3bHy\n",
       "EnegoZWV/DGn8arY035qGbS5aWTju7Afe8IVijso9Fg62i4GW14wshJ/esNiIfBf908x61xzFAL7\n",
       "X2be/lrZNevGjPavl0iSWTznOY0FyF+Gg2EwPJA4tWvYaFK7c9hX59Ju6nHOJ7W07zMEZKY+Rg9U\n",
       "eXgOwrVHgde4jyxrFzIci4eS/9gxL44MwDEjMKYzsELnbGxNBLZmco7S3ASKI71StUguqAjkdMPG\n",
       "YcepcUMsKp02ersNYNQDEA54Zi27LJrUbIDyYIjPyWiZkJlvhgUCGMJwnRTMbPI8Kc2lAEbbAtMC\n",
       "YtWlihHAIqb8q1Wm04P8F9mrt2JaPt8T69+vMhWWuOi1I0PRp5CeS+2lfoDRDwn1g8jDkG1Z9MjN\n",
       "DK1pFOYV4ZyCoAbl1WcYXUPZ4IXv/rWKAV41rlipioB1lE0YLtKdwV6LpFM9p540EIUMAfbyhIDw\n",
       "n3YXr+o1eLGSTQdO28lxEY07z6lJ4ypPB2rMK155VmfwM8Kf4sn6vToyrjonuFqZy2wNPb6nl8v2\n",
       "5VT5TQ+G9BEb1TV/52w2t5YKKci3Nqh5F8CTjT63pHhac5hF/RTdC0eSPuzkR0QP5t0BQs+NmvqN\n",
       "HSHV1buHAQziAVRXl5A4akhI+e2vN/PMCEuBN77jZj3wat/sLfaRTss1uTJDu3jGsdJRZBRL3u3+\n",
       "Updn+hdtTXOWj1jvYaZL50EkYTG+MWYHSp5e536xfpkSuVpjCF5QuJNwL84fAELCu7237bcmZw6n\n",
       "H9je/VfKn4EpP16ynh93JvIxHbEyqzEkrhycIOHCZYm8vY7NRTebNWHAR18cb3g7ltu48RawpR9A\n",
       "lVdvENyn3BXRBQvn/V7pmaoZuCrqDyhhmfFUdV+Fpf1Ou4UdmgDX8U2kjJ2BXnDSkwcK+3ND/jRH\n",
       "DdmWW4agTc0o/ZXBO5rw6jpAz5V7e8cXQduTBWUqVS07uZr82k4FI7+qp3jqUlB5kyLMhBeykNYs\n",
       "4QzZIZJDJtO2OzYgYkkeUf1Q4EvmcIE7heIo3vAPduUqIo2vRdZC8sOzymIH/RYe1cBcKASsuE0x\n",
       "suFSCXquXvm+va8YtStYAQDjxTzpgxoLHqCHzGvlmbwInpgYmOv0/jjljYh7j78XJlQhk4Q7v1Hp\n",
       "qkGfFPX3gKV4C2//sY+xxckt6FAIFzeXhdRPtdlcWYRzSFvZ5nyAZEpTmWfn8LQltt+a1Pf9lIej\n",
       "H4zCTRijIWuISgSEQJSF7Jf3k7l1AfN3r+yABq5YZlkCGReEvIw+oPds7dS6ZwGV8ajyEGFl7HAD\n",
       "Iejf11UwHL3a1JyuQfC2ss62Me/lAyZRTY095TlcfNzHbHk2uphsaCSD6RlbuiuEUao+qVWwJH/v\n",
       "9Ut4A2mxKWIZMBHLzKIjF9Tr+1Tr5lYKZhP6/lAVhoE50t7kzh7IM/tKuXf2/8xmVamzQTTyR0+h\n",
       "ZRHoPAnu3yt8VTsxmfIHgDM9zfMsiuig1BHf5vx7bC33uiWrcyRfuJgAlJW7jkIsNOn8BIj+6gN7\n",
       "1JFQxXMQlgi24RXNvKjjnggwS4bt88VWdNtPcI1gSgQMhvrkIFF1m6QPDLNIBw680p0YPPVacdFb\n",
       "m/wF73Qb+9gwzjcge8/iblPmWk3rBApXxvBbWEGO3QlmJdlUGhDQ2Bf9slY2mEbLwdyfsHYDk64C\n",
       "AcHJHLkpffkPuWkfFcRWJ+/a/aU76Nk6rl2XqYkuWcwLLSXUT/V8wVuMakdzKiHbndGGRqLVRz5Y\n",
       "IzLnca3Z0Mong4n85C4wQV6uc9WJOHBdywlN0cxQAc0ny7ZgZFrOXQIC3pB6q4IIr+yv7YXPe019\n",
       "fnmLMQcnjwJrR6+YWu9suG+ayffBAAAA6UGfDkUVLBD/AAADAAAU/xUMejgWIK3etuEkPITUX+kP\n",
       "JdS5Rf17nVuZEnp4Y4eDkOXlMAcrxxYgOE+t3iVit0LWcGTgLRqrBwTq+QjN/uc7HWXohSUgOg7q\n",
       "e7H1VAvc3rxhKC1Qot0kurHYow5s8EfeSNAFe4cb/fg+C+zZURcU6ksKYWaF6Y+b6vCEcgHag+or\n",
       "vAmsdKxCyyDv7A1M86Xw2eqoNzEjpJVhGJ+e4+9fiGnkjCdPZg+QnshPNpxmxtPJ0OluaTiuZRHS\n",
       "vffOcww/UdtVBCjReRgvGS1XQAAAAwBwsAjlMDPhAAAAuwGfLXRD/wAAAwAALopZlDTrwAyvX9zA\n",
       "S2tH0BXG5a46ivgA4dJlWbc3AGaYCYKP2JWyDGvQkx54RSpAa4ecPV5mlHOIXgq/d89G+QQDbAQS\n",
       "8t++YOjKAcA9w+eJAx+pJFV7DQt3ZmAuhr/Pl4gZenz1dEhgkz+SidO5SlrfpA8BbSMJ/WoiOndO\n",
       "Xfbrp7BNAq/L2kSYerMC9RfKD/QpOn8XcZvoISA1OO6XxGksXnqNAAADAAADAgpDh+UAAADKAZ8v\n",
       "akP/AAADAAAug01tjwBZqR1X5iGo3fCQuXI8zKPAA59q0bblgHs5QURRgjdCPwRC2mD8atTGxzIK\n",
       "5V7QOHIB3MxdhQ2SzgEnU0mnqI/4EWVxJyb19juUgF9mJCmliw7LOov/70jtJ1hRgCNsUD4oasCH\n",
       "G8fvnvUaV2kPKUo0gsny4TmQnqYZ1A8iynT9Wlyy3j9PAng8GhPGuNW+YrkpQqlXQLJ4BuO2P3Uw\n",
       "OqO2TK+fDEzdi20LjN5uxRzWAAADAADy1DakgAAABdFBmzRJqEFsmUwIKf/+1oywAAADAARhtMQN\n",
       "ATIZPGiOU6NQcjpwhCRlhGkXjccF3tq9K1G1Do3x//AJG73IWQdGsx/OB1SD3n4PjofN3dim7ur/\n",
       "4tHCEXr2liUIHFd/unF65EzVE2Ncq84kj+Z2uf4h3N3j+7XL/oOcWLAdd+j10T2Sc8fe4KMC2GNu\n",
       "qTmiCil8D1odzg3KNWN0BvplXXp9DbMaFToZvlxPSE68KBw8nRBqvhJB57KXHOb8AsEhgd/QXste\n",
       "JTZIVxvhawJGZElhFl89BRAUn0JGoLRKNhPMsE7X8jDcn0NMlZ9NxsoJ7eBuv57H57jEPFrX1x2E\n",
       "kyp+rU63J25w5gDc3tHa1jzfJFGvyk0mU+sUXPZr11GFh6rkeOye2NgxJKc+GMrekvHi9RY+gzJY\n",
       "ohcKSCWYVHQ9Gf2GN1dD/Per+/eszqio9kB4eNdDLCnKqefj8AuTop0VFw6kbcOjlPezodwAFivN\n",
       "oeBRx1XJbKKw5mXg/TJX06OqPPuHyhUqtpqlxdmf7eLZCHy46kcpzaW7+OezBUXIrk1S39Aj8ZmS\n",
       "UVqhb+zCvvslxAftJGAy6mgmj7OG5BtwOP82aQMYjGGfxLIMNPlo9010jG5siTV91AMxzNZB3hvH\n",
       "27PzyGXiyPTa2ZpKWdTtAcnPp8Dz5JnssWgIJ754+W8BUglVLY9KILt5T1RolZ0u4LXFxBq2pirE\n",
       "fDzYQIrU7L7/FH+N6sEEaLITb9kQ7aMlwkIYCIRlbjRcQc3pabThUykqADHmDbEE4/7VnZ5HSaAI\n",
       "Yze+WGXfoWtOZhrW22rq+1K4IG0wh+3+avkovY9BseAYAGvY2DIWgu0DzTTolZ7AfjaqtPqb7dXv\n",
       "CqpVhKxQZ8FoSsJWM9kZhsncMndFcWfm0eeUYDzIkmuXY7S0pNCyUgotPLsGYSfxFeRJw4/yZ62v\n",
       "QzDZ/lr35An4bP1ONgTUVZfi/gKuC75N7/iXV5LxmrI8O/Y9e+C2ZfHxzhOk5Qgp16BP/yE0jt7i\n",
       "EWtrfOIr12xhZerjEk7dlHVf1AjbHb3sXtUa50uR6YgslSG4ipwyBpKdPvZfnxeCl1e+RIgHJCXp\n",
       "fjgxEOa3KZPPwpfy/DY0M+Nd9g7aGmxKykRXnoV7EWe2TVtikFdr5K0gkQd/c1OVt8FFNUb7oH7M\n",
       "5sU88uWb55VlJvmROY5H65OJPoS9a1Ng6TPydnGcPV3XhXcPf03JTZo1v1IWyXVxWIrMzbOFIcHE\n",
       "G5FMTkt5dIELnPuqG1f6qV0DW0QzyAZXqdsiC8wcACBbdRrUB2dMHmjRPeEs+UP9k8cJHnWACYM9\n",
       "fKUzDEC0cZhB+n22TQnaCZJonOSHscs81nUQcHCjalmE8yCnNxAk8C8mo/iBpjW3BJJt+vKZWqoC\n",
       "NJXyarcCmfMLfuTt/0YQIAK7Un4DjBg4Y0VyysAt+iq1VSCwRR6okZCf2YAPK4PAmF3MjCsD8Yel\n",
       "9a3bYzDOJLIZ62cM0tcw7ejgcW++nqIn9geSYEU5kvjZIkoaRz8+12TDV9WhAANXTfVJJ58YlvYq\n",
       "mIAsIwIaYrVN76KPATYZFucgFCBMFKw9wJZfc72J7ASGjbybY4OhgM3szCeEmOaXSIMU5/N2ASrv\n",
       "MBX2d5fLdhN5xDH26Dod/qDzrp752WziiktkecOMXB0fCMXxaG89hBp8hP0BV4XK6vE0nAhmYAU9\n",
       "i3Vx7qrwnaNVLjhLY/HjDBa7UoyPcz8j1b+nxNyoaEAmqw38IJgnOcKPY/hwB0h5pUuuwEGVq4i6\n",
       "Pv2CcncyPJPEOypASh26bONi5Gzjx7+LD2a3vjJkZaGA/nuOldx4LEFNwyt9KPj0sgQe99lmRwfE\n",
       "g07lyaEULVjpSfYFUvTUIoIX7QeACG4FxwGk9zuHW74xWe1nOJgAdqXmdS9Xfr7kqCWjBVsxUvnM\n",
       "0upNRm5lsQIF7J8cf6ZygC5s0ZCp7UGlcs2672r4Ilmv1lgmYCuAAAABV0GfUkUVLBD/AAADAAAV\n",
       "jw2BzWUd5fxpo38BHxlvpJfBocS7bZNnADPBmIYW+CuTQgoTwwz3kCo9wnkKiWlQPPPE01JwGa/7\n",
       "uslJyZsCgFk3gYIrWM0EehwtEbvqrI8zHnrNXrNCkeE3OHL4dFWI860sNYcJNvMIe/5tnwHU6qOY\n",
       "seTwLHYgpObRQx15MJFAQFrcDfw19R0UvvyER5acM7MgW7559O/8IAN8L4WLQV3OvTIcilXXqkvC\n",
       "zKhQmKxBudXD7G4UpRVMSDL9TkBQvBjo4gFXb+8/ppUI7Z9ARuH9ilSIGWdV9XnJf7rZ4XLobP2h\n",
       "78Ho7pWQCQtisQ6gH1wTF1biEM+C0VIpeY6ON9wCu/V16PDXGx2QTo5GLjq+RWtJhghPeHtKsfvB\n",
       "bEil+LVPSXMhoPLxsj/eqj3dezm7w2ynH+Q80+y+1AAAAwAZzuiV3IqiEfEAAADsAZ9xdEP/AAAD\n",
       "AAAvv/OmAhPsgnaJqKosArQsMwIEED7MsAhYT5Po5BzsOf0aS9NknyUA8YzMIKBIAIfhGwJuwFwy\n",
       "a9jKicEDPKB5yg/UowxJLNDyIbFFJp8BesDKCTIugkzplM8Xp9xp1izqUQf65272mgZkGoqvNl+C\n",
       "g3DnxIHfCVDp65Xkpqf4gMbE5l2Hq4PHDttpSEbSwjsb/HK46ugPt6/KscVK0U1Y1LwUpFpN+3A1\n",
       "e2E6BxyAqggv7zxErgOLTwUyX92Hns6yz0TjuhSG+fMOKAPrKF/LsQ0LHAAAAwAAAwNoIlQmg3oA\n",
       "AADYAZ9zakP/AAADAAAQV/qZNPQ9JKoJ+PCAJRFqhyPFABK23xzCCqzDB0dxmcOOccSyEVBqTM5S\n",
       "mpxkAQ0ALB/SRD3ywaGdFMF67A/isLpVwkGfZ0gbYAOr/2mQSyPdKgNghClI1CFY1K3c7RwqfQlc\n",
       "mWz1Uxhf7/+9ELA3r0oyhr8zU5M6IAlm24Ejap0/ZWzXoE+cSSfHsc0AU1/j45Q2PeQuanrwObku\n",
       "exD5TOeoHk8a3GriwK6mTTK61vycK9eGsU57kVKlT+0g5Unz2DAAAAMAFZJ0JnlBAAAGDUGbeEmo\n",
       "QWyZTAgn//61KoAAAAMAEQarUcRS2nMAiQ8G+INvC6TZ/vVl/nloHMpbR57wcfr74cVLTFMgUnMG\n",
       "TAn3jB9sfkigKhs1v11ZEgic4GqT1ReXnu4Ig7EECGDxO35sU1DF2KHKftUHgj4VUuxuL9xa40eO\n",
       "gAlBoIxwsfDanqmo70FLUjGVBwYDHVGbP10Pbrjfb/pA8aoq5F66WaSp1iD19qgZvb2NQ3H6nM0B\n",
       "CntxPc6cVFxYiFRZDPYlwCk5DMBBF4d1VbuN7pGbcmbznpLaSJA6T9wl2r+9NJmF+g7Q2u61HMHs\n",
       "49Zxiyl0uLgfy7+rejeGnS9OxonbWdqUtEWbSw7ynin0+OGEluef+EBw6g4ntmkr9Vgyw4tWiQVh\n",
       "pLeY3Vq72JFLyHabs/skNiCvos0tAP11zjVAs85+xPFlrR563+VnqGZO5qjr6o/FUTN4sPg32JpY\n",
       "sFPl4V4FocuZOKLFTB8NL++evka2IgVpS9Kheu6BGm29z4PJKEUjG0y5G1CcBphIdJRmZwsACp1p\n",
       "CDrywIV6gV3hqOtcdSeqGNMLl3lVw6Qjr6Kru6qUctLLhMkVNfypV7ZlRjFkdzHZuK1FeJnAjLDc\n",
       "4A4S6KmwbRBSe4V43s92R3P9yMC5JflGe/sFLDSeWuTUFQuT7tx50z8rI4kmrpzkZAkSAIj4mVr2\n",
       "Bwf358+bLqtnLhGjCAWY/+qAhFq82I9NJRpQTAaf20/eX44OZmBQ7+tx1G6FnIxve6wF4G9wZ26r\n",
       "m24dF628iq3+i+72p7QGM2zZV2KxhAneZhkU0J9ZZoBgEuUeo+4Q1XP57Z4dV088jkycq90ZdaKd\n",
       "w40PMe3DIct1IpSIsJu4UwWK054guH1nFLBQJGiQiO3k13+NFbCZSvHZTKE6V0YqWfn2MYN6kZsP\n",
       "bRMjeHJzM1YY/Ljdq7FsAcFU/b3Y6JjnBw+6u+HrgbKnZ0s+eSQXfPwsajAUEE/IFcVklE6BUx1B\n",
       "im21q4xpGI4zeCmiOwSrB60YycCezOFnqaLLL0Fa43mVD4KSSn3EfzVnGZA5YW91eXR4ZJFlW5mo\n",
       "Vi6Pg3ak76JRC18iVwkPfs/bTLt2ZE2tHBL1J4hckyLavYyibhngCQ7AWHBqktAoIRQaeKuerz84\n",
       "SFR5SGb8p5cI6iZSVyDq2ULoKZlhhqEwaZrNBLh8n8ig9NA0h7dPTcjpTrwNfLfz4c0jpN5vmiHY\n",
       "xE9qlVNY3qqSzaro+y9jWMbLbnu2euQC34eGrG4sBDOzTEBHn+WzO921nC8T7wJ2QQgsYwuehxnI\n",
       "otg3z76dpCcbiEDj33t9gwR6g8hDe3DLya3xIvir1nIGyj1mJFWwfuP2w7WO1bQOyWvjdfVQC4eD\n",
       "58bq3b8FJb1wWy3qdlDPQvd4BPrAe8USGzEjQX2K6k5hqxZlpI03ZGvzVC3Ei8CpcoWDtdQ5/+fh\n",
       "E1Fdjrd4pgWmmWlS4Z2x8wk4qmsH4eXaMUXEVlI7jVdOYRwoDrIcPrsFW6C9wRlvdpMgmzclFJl5\n",
       "M/mDlQCqmDgsvM4wH9X63e6eG/1hkaPQJIVVjtfFY4nKLXaKCsF816mrFkSDrS6kandGNIc+daNC\n",
       "YlRLPUed4KN76idun8PaID1DLiEloebOjcv4au37bXpM4MycTrCboIOHSBSIRpI43HxcsjERHu1b\n",
       "JcvwW9Zjv7dfB+pBTbUH5gSY9c9WKbAX5UCo9OR3fFNn+jLJR/fPMRSNTtl8YUreFsAdRyIevnRF\n",
       "lLIu+g+CyerFxVS90pMLns2AEBgr1xC5XQ9XtJlZ66peaC5e5bnj9PeD/ma9n2J4KxC6bN8crQNg\n",
       "dmPfoy2hcfDdOSVikrJCMMwbjzubmBCw4P7CO+FR2bfP4Y7dJugOfW55mxEuHcj0MQQWpfTxIZvC\n",
       "3iuRpFNtM9F6aLTqpNBSfVMVxw+/4OJ9sRxFtMeoQMh3bAug0CVy9Mll8vLlMgBn3Y5doAKAKP98\n",
       "cqZNLFvSYKCk6hK5cDPLRtAMO+5GB2b+GP29UosmMbMvMIsVtg/I8KmP4E/gfl/OuCm/RCM8J3ez\n",
       "i7XP9WkAAAFKQZ+WRRUsEP8AAAMAABWPAwiXHuolfEGkgN+0eKXHeAWgz2kLGUmxQIPARRVjmM7A\n",
       "IdnXx1viklo5vHmC47P/1+Pwexp+fSrvNxN02pqYjGLTFR79IQ01+iQz3iRFbZp23aWdCuSChATU\n",
       "HhDn+594qIzE1cHSFSwLQ6UljUu3FkYOGa7bPbYw9WqcRIWqo9u8fNF+c3MkCn00H7Ln3TfavG7Q\n",
       "/9rcl3q82wlvlDrwQl2reO9VyoU7GKFXfoozHFIZvT8a+amQ1HcqHMqqxJRceiOTPDmu79uWI8D/\n",
       "7Er4mIKAVmGSsB003NayoDOhhsORuP1jrR2hsrLSrG7vJucommENo7Zt81hBYp12y+HNtA3FSc8+\n",
       "dr639Rnn7enkOSaKm6ZI3whNc1j3BknDRmCo3gbaGBQhaGvz2kHSQBmTbcAAAA8nEnbJWAb0AAAA\n",
       "tgGftXRD/wAAAwAAJqsHhMSZhdpu3D2T3PsI/iKX0A/ztqWgHQ7GbnXAeWCi1mOwOcLOhfO2eAYT\n",
       "s+7QavAUD5x8gfmK7BKzfQAvpR4kg8g8FLD9aevkSUBzZgqnwcPnIPIBd2k/eCtXdzS2kagPPRxw\n",
       "GvpYyNrkPHShM41TrZXVLZjSvQ2JNjoLy/xhVjPlrgQj+wUlpStnXSobnMr2TtP+8Vlkx0EvdMLv\n",
       "GojqgAAAF8nKOwEPAAAA+gGft2pD/wAAAwAAMPeYJEbdb44mis17+udxH6TziVRtRBCwciBwAI/o\n",
       "WmhO0UUjlbcUzvRk6swAncA6x9cmS5I5w5G//UDD3NiBdAPsPcMtWJQyI5eCHN90ZTX7qplZ9EHE\n",
       "HT1rIjJM+Kr/CstF6Umr/Qm8CUrfK3m0R0cA+LvGP+2xjb5h70jIBWHDYhD3zuN5NInZU+SZ6lnN\n",
       "y04jYfrePBctjR34S6qUHAWvyTFFU03cbtEZIz7W4beE/pGSxCUDvrellwVSKFmoCysdeqcKuwbS\n",
       "uwiWgM05zsqkb//4hzZkAGsDBwxdY3bOB5AYc+c0gAAAEUrTc3EAAAX0QZu8SahBbJlMCCf//rUq\n",
       "gAAAAwARhqxshGfo68tzY0Y2EevftpdN4zK5VGyAI4zoK4ReoyIj0YhRPz8YflfKQloZ7ZUNfqwo\n",
       "QbhTRl5nrZ9pLH1m8TNByHBTHL0bUCtn2wphrFR7yhFctJ8imFUBpBxVouc8M/4N+oeAG5ljEV5o\n",
       "FAihj5Xw6es2w6g1acm3/mfIsmL7g4Vn4RExLmOeRrosi51uFXTDYeh6dHwacVJ96gEUBN28EunQ\n",
       "Z8K1RnZKmUmKXF6CHPHzRSCVzJLBIrT9XWYK14wAKlhi3InR8Qpynkr+LZA/reaFgRo9u1pcX+Y4\n",
       "bCwVCVEH10tweNLJD0/o4p8lP2WEFWH2IGJ1Cu5ew1Svho9VZ/xndnAvujJJJ3UPhY30ecWSejfI\n",
       "KQgnfYioYPmxmK/vJWUIAA3LcZHJyy95FY4o1PDJTN4xS0819koNE7fPEwTlqef5d6eN+IaYmqb9\n",
       "9aZyFVvCQErcm5DQi8lCYRqyWhEuofGzJw035uQee4aujgYo80XdZiShHs/XTqJFO3g0PB2Hs0Gi\n",
       "q9m0cgIJRT46WMNfFlPWgspMgMSWp8f6tLZMpBhIMQstmXquebyEfmD22mqa9y3bsNRDFjRRbduy\n",
       "ur7lOabihuzzqEXEc289dlKTpHkNyouI+IgyH33f9ToKRkMJ4Yno3/d/6/jke90z2wRFcZ9Ryi8V\n",
       "F13ivEsSe6HJ3hjqFVpR8V+ZB62Zt793JmX7nwcJEcy08fXRre9lk1Pz1KGnRfwc6LAvcugB6iSj\n",
       "7U+2yUxGTbBwwUzUQvGc44W73urU+JQorocKpQxCz/0qLt3VlLZeOWH1PQo6+ADrc25ITHkainHG\n",
       "+M+TRSRKumdwCgc9yQQHlnKoJ3ZcaFCb83G/YVj6rz76gXIDWFRqyCwrvT5Jt28i/myBjpHsFuXS\n",
       "azUQttOkMKomqjpsDjJkaXsKQ6AGkrFbp6YECi7EsNupVqo8y3ILs4xv0V0um8grb2trpyqBGnR0\n",
       "xZoz0zeN/A32K1OWiURcbILtFjuUFUz1/iLf2qH1RLC3YOd+fs9LzspO4lUyQpVAW6NHySrmKnJB\n",
       "Tlcv3JEpoXB6jQVViW/Ydu87n7H8eDCmOnYhgVk/XSE3706W/xeJiA5DDINIHWzdXv9KeGapFIt+\n",
       "43QdmHM8DTgUgSMSMQiVC7NPn8nk+l8gDoHzznPtm0uw89OnDcuepVm5+y2OragTlwq0bqajKM+t\n",
       "siu8Pqwkb5oZUjLuh5FRDp5zx/un7EeWnP0mZ3TOu36gRaqqAdWVt4vpjvVe1MUXLIhQGgd5dl10\n",
       "p4Zr6Gvfm1MKfTcCEhcqLHcqu2v6RgPwKBW9COlSPNB3747HTbzkzk2WgvVVR6sCWzbJqb/HAg+2\n",
       "+FNJi0FOmoNUiIRW+arEt3nvbl6lY4orCkyhWq5ruvpcal4tReLcvH6xHFjVSqF9PZQBHuBCLtI7\n",
       "vdluHvk8Vp0Gu7Vd/vKY49RgsaaUSZUqBTrDldgSaKOSqKXe/aQ4m6dRrBcWsgdcnmw4KKOhLCg2\n",
       "QfrB2nshZE3TXZI9S/NuuyOBOq/MiZQmfVqDUXs999sghxSlPTv/Uv/0XdLL5ZgRr+z8MWYQAzr4\n",
       "RxECa6BzwooKvDhwYabvZovseNu+WJA9sYguXWi9sxrDFFOlQeS6Df/glrlxCNO1onkkFEgJ1Ka3\n",
       "K8xcrVu1PXw+XXDS6D1L84AE0W5Q0nvySMBGhWXNOcCW6qms6Grfxf6zJd9p6bCCSdRr1u1ceAPr\n",
       "x3UT/jg9+Nsmtdu+WB2+jmRPP07Ye3juJgbbpO+a1qLoXZjZZu11OWvM3ImU7IYgQ2NLfMqIs1MU\n",
       "YnxnQZtE10DnyJfQu0CPPvE6KiLHXlqGYP8a7Lk/1DuYk7Yencv64LNWbnCmUorzUoBkkAk9rpSp\n",
       "rWX8F6z7cP/UJnrIyhao8Y3OFmQIOb+BuN/qKS+Yt2ogubwCjKRxii1oD5R4XjbPfmLEoY19g3Y1\n",
       "hUTSeUET59A4Afc/T65nGwOCiHf+Nslo4VbIAAABSkGf2kUVLBD/AAADAAAWGHRLDPZtwcneMqSC\n",
       "KgMzd/pdNzGDqS+Wh4YwRZ9Aj4bx5g/JQDwNHF7hefkIUIHBpVJvN+1NgzS0Yan/5aXsSDAdq6dJ\n",
       "5tRpOUk4rYTXhQgbY4MfoL9I93eksumLz42QHlGq4DirxvUK5f5dvSpJ41SvalKflv7fraBg5joc\n",
       "PjX3g0cMQdF4HCRu2pB77yax8NQ15Qn4osv9gHVFEayvWta0EIySWD2RvRTP7pt0wBwZvc1NJ0aF\n",
       "oJZQtEhr1F/Mgo1SwNWpIyrNNJYT1GGIOBMoo3wYmpwbZ7QJBKnhkJMc55Mi4IrjMlCqFOf7Sslj\n",
       "zkSk6ezya9IWZAOcTmoyxcOWoi0DEE8zBxFaCUBsrFm5PiY3giDKTpTUBRvu07pDYLWvjdncHWLS\n",
       "qqgpJ6XUAAAquRVFzimq+HZ+QQAAAMEBn/l0Q/8AAAMAACh2s9e5crcDU5EHulHFx5U3ZIv0/9fD\n",
       "RrjKOt3tBZBP0FtjDG6vHmC4AxIjbPVAFjNO2XFMQJgl9XuHsYiDLBjMZX1OIujIxx49BK5KvwG9\n",
       "bxrFK0Q9tspHHCyJeDm6n8HoAHM8PscOG6N6ZGwUG6O6TrUWduzuXK+ZKj7qiBQG+e/5O//JyCRB\n",
       "55EonEQbAU1QcM/tWbyn+GW8Oi3SzEGViVJDQwQYU/YKmSQSxYAAAFCsAJOAAAAAsAGf+2pD/wAA\n",
       "AwAAMP495w1xS0+PCcPOn+h/ssgfR2sPevHqleBGolAKckxW3gHRJzS8EgdGP1mAEMp2xc1bxzLl\n",
       "5IeN2ew8S5Vt3Y73Xrd2n98SUvcvzmfoPorDYSSBZ5lnFz+58zOPrSALE2HxdNHfONGcmP+n8Hr6\n",
       "4TXmV6duRUnjgSpQh4eioECAX4PRh5KaV/NUE6mciLiDMYOKUvOhBvDVHo1viMIyYAAAu0NVAAAG\n",
       "AkGb4EmoQWyZTAgn//61KoAAAAMAEgalKWwm854BEljuWSN8MkC2VVLOzbXxzyNjQDf+ydgFizmA\n",
       "jisiMGF9xfXBodvXuaaND0fgLXCrJHyRe0CaeH3v+ETF1VCmC7vxkzb/9r1HwFYbHRTX0TuB+Y1b\n",
       "A/7B90XmvEcI+6MSond/q0hnBU46GVqTgSKK96z7baslX423PR/YACMAh9kN/nr5G2LXYqH9hagm\n",
       "CC2E3iueRJJYY0uXOhh3HI4qbYZhEYLcHt1h5c6yKDFt3XFDtfO9jwDzHLLmA+q5zThrqV/PBT+X\n",
       "D/R44u9PXUNmUvbXbAhZPBCuWNHgsM6rbYswbJzD3nFcT026QLE1NTX0B/FcFvsXvxFOJK0/ZVVP\n",
       "RuMhe8/tZr299wSZRObFYl0b+Q+nGoEvmLRLIm1/z5YTieGig+YmvzCxxKzWtepfXGv6JUfTRuzk\n",
       "n0umPxydCBEnLxuIURdvvCymhUjarbEQEI1xAXQCnp5rEKj82JusvyKpDqASw5O23q5jb/haclCa\n",
       "ne0ksAgMyY0rTgWEpRAIkFJTXSnOJoOs2CeLYKpL//iPjqRY4PG1CwMHr8+DtZGVw8sxVedFBYoe\n",
       "HTxIY664+I+uElTnTB0rErZMSY1IvzlEYZqZX3SFO+Xx9SOyDzEKNjeQWJn60eXfHpO/7X1q3jT0\n",
       "fKKrwP//H2dmGzu77KgaDjONx6o4qrbTSxZ7AAejogpGE583U+6YAAC/fu7YSRSab74KmXArbIsl\n",
       "IDolpUcPtyejVMJysd6VY8cK49YbJN32zuikv51pVSKNY19nWWZb02IV/ppbPmlqFTUu87051MS3\n",
       "kIB/eHnBHCakQkiczAeoDYkGFsHTL2/LwmsJc8mR/NKAHF5dRYoSgPjD+j+rSFqc1FEc5OK6BV1I\n",
       "A7iAaNy+PmHScz6zMwvRFaBzoFEPLAJz+JCFfj373PaY1eAmrX152Q9JLR/LpBVmigvcTnkaMWsN\n",
       "yCn2JU0n7gxygnygcyyBjXN7A/fMUDXvzw/OOiFWSCeLZ66ooUEHoOwMjvCek4bFg65DA25KuqhC\n",
       "iWjv6Lkp8WSvLRsJYgkWaKE67pnfM8wAR608VM6NyeUTKQoO9LwV8KYgtdG5QPCdz1mjeuF6b2vS\n",
       "bPxFNz6YgbN/UgCH46FhX1ezOgULt8qUWOE1C9yVJrjP1aXqLeEoZfnaKpOGqrAZkAY355fmWtwW\n",
       "m+p40ASA/JYyz6BeLhRzbObk8lvxb7wqFqZHbMtFp+Ho2+XNmP7m8tSAdhBmilwj+EUPdBWGL7uF\n",
       "CrOF6IU+RVQ5BMy0YBBgZffNXBE9dP5ZotJXDTDkQd+7wNOcIUXaq01a4ZFYHNEdQBZvljel3h0d\n",
       "a8kTuej2NQ+lU0ZwevGVXoDzPMbOrfECwYuepmrWoBqae8tbtq9c9My32nLO5nZroKfuZltHBW5N\n",
       "63jp5wA3+E8SAWXlxkDk5u3pqJD7kc5n4AntbQSLgP6aVjRf7V83PyZmRT1VRLSCu59UnOHnyDVd\n",
       "f4ecAEjMvfolSI44AXKvhCKiUdF3SEKx0NDBlRgx3iHpkKTYPolvJ8uKi3cwYqMNzqByHQWrVmI5\n",
       "qdFoxQ5IiRjFgs/gsbhvVMQXQ0mkYgp68cwy9iB4PRGZyKCVLcrnF53YcRXNr5cw9FJpKVgudC1l\n",
       "hAK3urC32szf/pe4y/5KU1VhG6qwf1wVf3Bv56Pa5VCmu51qpJ0h1uwr4cKYqwMrylpnf0Vp28tK\n",
       "/MIETX+UY83BPXUI54aJrKGT8HXHA39nRvYI/nUiqR0jNCQzNpUPkatjfxuESDICh0HIPhlnfaTu\n",
       "HPOl9RoeUuv7xNZVUvDjqwPi6EJFNfkjcJDFpVje7GrigeCyVtsdIXGCPc+ycWnm6UMPnzK6MQe7\n",
       "ynTTqJ8gNs2tL40SHkhtr6+rCyYXlIq9FqgLjW5c4l1wBImEcYIkjoL9tySKHvM3PHMezrHI7cJD\n",
       "VlUw2Z8aHUY6wAjuFFGF4b19WBnquwNnSPPr4RH+2V0OeN2GcS7z4DID0NLQTY0oIyK8e4M9SS6R\n",
       "AAABFEGeHkUVLBD/AAADAAAT3xWKTyxxbqdRNhm4Bd00j4V4EVFc1VwqdzcX5+hKxSKo1No2YKDt\n",
       "HRUiCfJR6mb8+lK0/x96cqAeM8KZSnIh+8M/VkDPDw7yc/7/8Yc+CAHZeHChuLwG/nD0SDN142ej\n",
       "vhRUDd47y26RAKrlApdawd/Hnk/kuUp2chYg3O0HL025R1clJbFuVGHZinC8O4vLoi1DIw308hqB\n",
       "E0iq5k+ZV1VRzZWjVr/ZZXQAM9+/jIOALFMMhM2OQyTwgKSjokGbvf6CmB1kfTryQTY9nGN+VPMD\n",
       "11h3H72LUbRQQj0dcf+5KIMv/PWIB2FZ0E0xzcH9SJBKKdc8co50pMCzChUAAAMA7v80EAAAALkB\n",
       "nj10Q/8AAAMAADI/86cn6ybGwgmLqXM0i5AP3pBLi21Gqtk/2BAo01AO6T3oNeE2YGc2aqyOZjFX\n",
       "VuSB4Zi19TElqYmhqZHMTZlLKBaM/EcRECFwXJ3kOmP3Q6kMJKitTC7CKJqqzPnDMdahmqiNBeZB\n",
       "38VzLCFnAKAsNs6QzK+KkIl1hiq/qz8CYfHk+4zg16vtZd9yQvmrRpAUFFL2t6iRjbeVpul+H81P\n",
       "diYxXhpagAAAErhm4AAAAMEBnj9qQ/8AAAMAACxDWeZdmEhvqTILZSEi0eu/Dxbt/+8BCLKI2mdA\n",
       "BQj0N0cB3lPwmCU2Yvvv/T9QYNgh4WK79QB+6fHmOwHlmAZy4eFlH50vOzhj1Q8TmWMdDLEtf19i\n",
       "aI9foUDGte6M4gEoCy0vX43U4+yeqvIAA+J2TfqZUZ1Dx7jNEEZEJ/CFirlFKZOxev/fWthb23N1\n",
       "/qCPcbLWuCSRD7CYYSUnwcegSIF1dnSBg7zOHqjLQ0pAAAAoEUvBAAAFmUGaJEmoQWyZTAgl//61\n",
       "KoAAAAMAEgaAvrwqa07fqDYszWEK50M53Rus3rdZQ5zkfJzxw/3UsF7r/YXfVbmZ/fn2qaS1wODM\n",
       "sAqjlneqHe05bkLRnDuWkGFZU62xp1GgD8xVZpVKQQOMLJJvB0EsNMKWlKn2hWOhEMWisZuSxW3e\n",
       "KV1NW/E6re7L2jdUiC6KUj4OigMHzYT50AHMVaBGMpFN6TKOxKZUarJXnAUBbQ42JCyDm1PvsHZ3\n",
       "YfPX61KhtwqqDqIrhLbrZBXYcBci9kMx7OsD9HP3gDvBQH8JX8VN5rXuouK7Vy7kZpYwdtCoxS9Y\n",
       "JEiyPzR3c5BmfpF8oAd80XsbM/94DojnRxLcrpuclJcr0SjBNHDnvYwbCSAlswaH0wrBQAPpmAAS\n",
       "gzGyc2wpHkFg9Eq/+JrcgOiBdXPcRaNP/aXWzOlrHJkYsZwcmRl82FZJTpehHYIUOSJs9SdBxTwB\n",
       "jGbs0w/9/LFUnr9MBxeeb4Bnp4EjgnBUTCAzPTW4Ftebz4lFIfMcOfAdO8O7VD9gKcI8Rm2gyoF5\n",
       "vmPjP8mxoyob94ivKJnXcppUmir5H2D1OXGTiSqP7/OOYQkfVEY19pdEvuJZeeHvnoBLc3b73MqF\n",
       "tb82bmRwgjWEQNlVtmbMB4Fs6Cbc9cNa53Lg9CHHHl+HCsJ+sFazw2bo1gNWxN3ttAEWo6SWAPjY\n",
       "7N0szZ6T2vfQ/xocZnkeIUt4+0M5cIkAltw+PQIIdyv/Z9SdRIFZ/0U1ibvIpywycEYAsIOtMwBk\n",
       "eg3w3b/PiBcqJ2iyLXsyMf5lUzl1W9yiPQ7uwmGjPRr1DlqfJdEbeh7/aKf6OIAc3RUDRAuU84Q7\n",
       "QznfENkiBhz/u1bpliSrIHNhrv5AoY0bVXhms42MLD7XpoteLEMOlDxYk0Dr69mR8goSvMFnICaC\n",
       "ZUQfrGi3eDbQb5fSZ6VDr+rcgtpDwjpJIjKxsJqiBRaxsQ/X6WwbxB5cVcT+/3MDFi00Yl1zArDz\n",
       "cZO+Eg8HQvqCuNWrDQa5GSOiQIQ3JXQZ/RMb/w+cQ+Dn1BoDFcOppQgUc6qj4tLfpJiM6Jhq3H5u\n",
       "Z8UqdUYMcaqxVu/vKMPVDoeW36JeaVt991Im+TzHYAl+vt7fSyPi87L9A2wi5XKO/JK1b77ySapE\n",
       "+TWsZB6m/PhPdCT9RVhPS1d3DtCUPE89WF+flcTfngqJ9t3hgfqsCiJORny6xiaxbfqX67WdljDN\n",
       "/PWPfcwUl33DVxvnTXapWEoLP0+SKYcRRCOQsqHH38R/aeexJKWbWMyLz1R9nkxsKULYnDo5rSZX\n",
       "dZ3YC2UQnCNcc1oiCdToFE+vAdiqmz87SR9BI/W0oESedBb5nHDcKF8ISG2nfTTmB6gAtkZi7h4C\n",
       "2x8BO+w9mcmvTLcq3tGFYxe71RMak0NIp4m2bTFH/nPCtIPkdW7SkqTtFJNrb0VrFPJ1tIZxsOp3\n",
       "1feLHZiqWpFzEllNsRbcF6IAWqhnOMPYtTnByNnYWcmxYqw016RXpH9pgfvYTmvW54Xld1mNtTom\n",
       "fgYEsUkLRaNqcBYaqslqK4T5c0Xe5PwwbQiPB6T8drk6iEm1UjRzaT6xeOZ/XF7XODafcq3X/1VE\n",
       "Vk4ihCVWi4CL3Fgy43MSrYNdIPEdvddqLpNctGuqIdfJ9AtbXlccn1tkD4U+/BkgS1uO60Ui32VU\n",
       "T1K9dBOmDwGPASTog8O+Llq59lFawO3u1mdJaAKaOGBMwZDJ/P68JwtxblwLfNA2QXudPS0f+I9L\n",
       "mmh026e1BpQKgycuDxtSd5ls5PjDngyp2hsDqIuL8pmwoFFoYhO/ST4pHj/hAfHaXd06+gJrW4xD\n",
       "vcejSRmz2uvK6Xf2Ik8aVLwLXSfYbZZDalkmvSvsgaoVRJZiGYJqMTHjWyfi/LRIFEOEAAABJEGe\n",
       "QkUVLBD/AAADAAAUcSaMdLYtd8j1OLzR2nEjd6SqB7jBa2YAQ7ShdxYceRsrzOW1GXn1eOediO/9\n",
       "0BBxHshbwsSHlVdQXiN/VYDvewWPKiArZ5DtzgfEwdAVZT1aX9cHQV2weVicMyPhL2xkRiv//EWC\n",
       "Ab78SiScx1FvL/7eI02xj+HogUKrP+EFyjBYBe09fm0eF+TI1Xf00n2OPNTqANhaLAPoxSO/Vit8\n",
       "Bxmrsx8xKGkIP7TyHBO3052x66zxIeWNNtZhbt7SbHtJByGZ3G8v6cYPnMlxrAD38Ijldr3vUi3A\n",
       "3zFaZs4vvHzIEjNRQuDk7S+NsBi6EbkS2dwunLvJoDAir6vdd41cOnlzWzeOOfY5SgrE6NGxP4AA\n",
       "AHJRGZEAAADkAZ5hdEP/AAADAAAtal6IWqyz8lFELqkv24qH02YNGNByOMnZ8QAJZHB0LXcsVaXq\n",
       "Xhrfsa4G6+TDzwT3m07A3vIbZwPHzxSove4Uzjx9Te3CiO9y+rXd7nwjCRKs6xHn2KzNM5AK8j/B\n",
       "jbo60YP2eYDoV7s9YMHMRax3CTANabZonmVQ75i+no2wJ+uIo0ij9AxmMgr1aGLjla9DpQgOPX7k\n",
       "yYtVtBAzCVyqqwA78pQqCsOVp3JjKQsyJwdWvWagJ+QgmKKC+yJf/9BjsQ6Pl/3rrH/AGVzIbb3L\n",
       "AAADAEdNQNSAAAAAwQGeY2pD/wAAAwAALVX2wOU9z63uPZN9gceJ2u2FcwJw4xlJfUHcAAmsxnVV\n",
       "BGL+MQcgMwRA2PYfZsd4LyPgrNoZ3dMu3ovYnuHgmIT7Av/arj/2UKao9+QCWcjzPaTQiFIMeIUi\n",
       "WeFAyPzZzmQAIfRm+vIyHiMBDzqAti8d9n+ncEWf8GQFE3ybUZKEYKnqnLrPTybKW5DIyrwDZbbd\n",
       "iL3QY8/nlEaOuW4K2wp6y+Z3R9UclXzJ2HUAAAMAFicAFTEAAAPBQZpoSahBbJlMCH///qmWAAAD\n",
       "AACMGNW6iGqUYkWtPEqi9ax/XK8t6hOoE2sOx57fR/gvBuAW+KulyV8S9h2nz8/nZbBow3/r37J7\n",
       "lKSsHGnlJlD37s4ASXQ706aS9hy5zcMcDK+x4/DAZ1K3J6i+rm74ddLzJXE/WaGC25CXDTLmyv1Y\n",
       "brUH73LSQcgNH05DdvkJY6cdNmSE3nhlGpv3H9CCpTT5QdRp2IzQDy9PXAEHnjYUqbrrYE/5n5NN\n",
       "lCdpbFO0DD1H7aBDZnQQQY7xl+/IfAcoXJkZgfDGORcX1QxLXPIvtS24JCrnq6s6r93t1CP6mF6F\n",
       "8GvzLgxh/Zr/eBrZC+liM3nb4UWM0r+prxmuJgLEbHiEDUljevRMyqi9DQbsQ1b0biMAWWxuJZwI\n",
       "B6sKR+gaUnssDhh/ZIK2FVGVwmaA+SF6MLWCatqHetRMElThAboEb/n3KX4koErc9PyUmPTe3fy5\n",
       "Q+qIlyv38dc4B8CLLEKKqAWRcMsn1o8HKbCP8BbdnGzb5X6iGJLvnJ0tdj3bbQRE6YXqwLkvaYVA\n",
       "O3EPbWxmiTZ+jKXwUfiF/k/UfN138shljTg4YouzoRR7+cfFZslU80YGJ3w298KXTv+Ipsw/F4Gp\n",
       "7fQIXl//TtrdLzQuhJupoPrZZlnZS4bf19AB1N9hwzzowHFg7ywsAeKI0jnTXNywgT1bFswPirxD\n",
       "L575VqXZ3NooLRy5nVlu/WqkbhSr7ggT7AQUlHxsHTKrj0GossO2IuNX7moX7GNLjVzefk7lFc0D\n",
       "WbddfqxqG88zd0Pz2RI+zvDL5gSMuB76HakJecol3S06CebV7w19ef32EgjWRblNvw9veDb4O58m\n",
       "Rq79TrHUPfoSzI3vIuk7HRp7QZk7L3L9nrKu7HQ5cNVRs/nsiAVtA/DxSYzOHsuy/b7fJx9JJ04K\n",
       "GxFV8i0Zo8yAQkRVLNGiiP+MjoUwSx/CL02gB0OClJpQkTeuS0T4cIgR7ClIi5vuOMsCN5nCgxFv\n",
       "t64yKcLRk0r9AIkStk0XEFrdBgOyooXx5N3NqRZ5BfhsrsODlFPwKBffwGwL7r49DFcaETaHQwJI\n",
       "dN/qOAk3BoW7LzJpPgFZPxqnZOc/UgiHabPdG77u39ft01+Hpu0Pi5Ozk9OAa5OH4bBD3H0tYJui\n",
       "gBiXsG7Xkm1lB9P7kIof/CdhyZb+Qj4LAIhSexsrU3j2GGxSOYQzBQ5pyJ+F1ielr+UawZ8Dnkmo\n",
       "0nS2szt6YxX7gNey1WWLMTMg5A4995zZza4LCsBojwAAAWhBnoZFFSwQ/wAAAwAAFq8DCQ1NplcE\n",
       "6SuLO9Ldek//6yA6gtPq070mTP3NNqqw8u3Ua1HWmeqvFC5qEkcopTG/fQEPFwbCJ6FbenVs55vv\n",
       "UfzhME6HG8NZJokVe5ryouUpmK3oiHNpLzXgZPefi4xrn6R0nAHGuDOkPTvSyfHRQDgUkSEXKFn/\n",
       "W/oA1r/LV//2dkmbOr9AEpqpQU8EJHvOhc0TIxevZuUJi5vLMaxAeHgvpnUrjsG9HCxal6w3y23x\n",
       "hsWtzqSkR6Tf/6Ct5zuLs1umIIFiOIwDg1/MffBNUI5jvCAywNWiGtUJAORG5TSEpnmZdnhpXPyS\n",
       "ClXsMUs90IIps4i1PkNWibl4JoIA72rMa6GttvTJAkZRRfz7EVswtPEys9y4vdS9Fn8SlXedVk5x\n",
       "kFr53DEeKRUIXrR2jqvwPISmW8oxLAt2tqq4WbbeZcpAi8Uhqe51c9SRmfT4AAHg6dCooxcAAADI\n",
       "AZ6ldEP/AAADAAAuilui+7chNpGVSg2DjgvlzAit9rDQup1U3BIz049YBxFfIgA/7dgKAPN13UPo\n",
       "2sNG9moXVQF4fxoa9LaxotQoGfplto3LgrKrYuVWpDWpEh3XFMg531Rdiw2Kbua68EZoeAaGdxha\n",
       "7rRXxjhPcXzLzVijNL44AJvUGnNRy4RPNdU728GLVR69rjDfF62k5CpqU+XfX+l/LjFi0r96Km75\n",
       "1hJJLYyUktO+GZ6QNWB2EksOzEW7uCAAABUomhEAAAEPAZ6nakP/AAADAAAyPj6oIpTyPSMh188R\n",
       "i7oOcdJwvstVlQB6iwG87JXuj0fwWyPcZn4aYUyJH+lrBPNk4AA8XSVPPqbcNnRHf/QDCqzmUzHW\n",
       "603/w33mMASrqAZECT4SPBkHmu7/YCjVVCW0imtFMXvD9NMCWSW2pRDna3Af+LBQXOV7X1J3pqwY\n",
       "96oLc650POdO6AqC4IfUD+8Eeedr70nMMGoJcGpfs3VCoDUnYVF6rno+W3eE+HgpyjTOOFVshl6F\n",
       "31BfT2Bw3jXZpXexCp216/lfzSS8ICEtxCYhhB2Lj/EWJdwoaOtQ7hBdXmIXyyo4yiqAYOYIuSJU\n",
       "/MtGdGChBawAAAMBoM9MW8B/gAAABRxtb292AAAAbG12aGQAAAAAAAAAAAAAAAAAAAPoAAAgCAAB\n",
       "AAABAAAAAAAAAAAAAAAAAQAAAAAAAAAAAAAAAAAAAAEAAAAAAAAAAAAAAAAAAEAAAAAAAAAAAAAA\n",
       "AAAAAAAAAAAAAAAAAAAAAAAAAAACAAAERnRyYWsAAABcdGtoZAAAAAMAAAAAAAAAAAAAAAEAAAAA\n",
       "AAAgCAAAAAAAAAAAAAAAAAAAAAAAAQAAAAAAAAAAAAAAAAAAAAEAAAAAAAAAAAAAAAAAAEAAAAAD\n",
       "6AAAAfQAAAAAACRlZHRzAAAAHGVsc3QAAAAAAAAAAQAAIAgAABAAAAEAAAAAA75tZGlhAAAAIG1k\n",
       "aGQAAAAAAAAAAAAAAAAAACgAAAFIAFXEAAAAAAAtaGRscgAAAAAAAAAAdmlkZQAAAAAAAAAAAAAA\n",
       "AFZpZGVvSGFuZGxlcgAAAANpbWluZgAAABR2bWhkAAAAAQAAAAAAAAAAAAAAJGRpbmYAAAAcZHJl\n",
       "ZgAAAAAAAAABAAAADHVybCAAAAABAAADKXN0YmwAAAC1c3RzZAAAAAAAAAABAAAApWF2YzEAAAAA\n",
       "AAAAAQAAAAAAAAAAAAAAAAAAAAAD6AH0AEgAAABIAAAAAAAAAAEAAAAAAAAAAAAAAAAAAAAAAAAA\n",
       "AAAAAAAAAAAAAAAAAAAY//8AAAAzYXZjQwFkAB//4QAaZ2QAH6zZQPwQeWeEAAADAAQAAAMAKDxg\n",
       "xlgBAAZo6+PLIsAAAAAcdXVpZGtoQPJfJE/FujmlG88DI/MAAAAAAAAAGHN0dHMAAAAAAAAAAQAA\n",
       "ACkAAAgAAAAAFHN0c3MAAAAAAAAAAQAAAAEAAAFYY3R0cwAAAAAAAAApAAAAAQAAEAAAAAABAAAo\n",
       "AAAAAAEAABAAAAAAAQAAAAAAAAABAAAIAAAAAAEAACgAAAAAAQAAEAAAAAABAAAAAAAAAAEAAAgA\n",
       "AAAAAQAAKAAAAAABAAAQAAAAAAEAAAAAAAAAAQAACAAAAAABAAAoAAAAAAEAABAAAAAAAQAAAAAA\n",
       "AAABAAAIAAAAAAEAACgAAAAAAQAAEAAAAAABAAAAAAAAAAEAAAgAAAAAAQAAKAAAAAABAAAQAAAA\n",
       "AAEAAAAAAAAAAQAACAAAAAABAAAoAAAAAAEAABAAAAAAAQAAAAAAAAABAAAIAAAAAAEAACgAAAAA\n",
       "AQAAEAAAAAABAAAAAAAAAAEAAAgAAAAAAQAAKAAAAAABAAAQAAAAAAEAAAAAAAAAAQAACAAAAAAB\n",
       "AAAoAAAAAAEAABAAAAAAAQAAAAAAAAABAAAIAAAAABxzdHNjAAAAAAAAAAEAAAABAAAAKQAAAAEA\n",
       "AAC4c3RzegAAAAAAAAAAAAAAKQAAEp8AAALOAAAA6wAAAFkAAABtAAAEqQAAARIAAAC6AAAA3QAA\n",
       "BY0AAAEiAAAA4AAAAMkAAAWpAAAA7QAAAL8AAADOAAAF1QAAAVsAAADwAAAA3AAABhEAAAFOAAAA\n",
       "ugAAAP4AAAX4AAABTgAAAMUAAAC0AAAGBgAAARgAAAC9AAAAxQAABZ0AAAEoAAAA6AAAAMUAAAPF\n",
       "AAABbAAAAMwAAAETAAAAFHN0Y28AAAAAAAAAAQAAACwAAABidWR0YQAAAFptZXRhAAAAAAAAACFo\n",
       "ZGxyAAAAAAAAAABtZGlyYXBwbAAAAAAAAAAAAAAAAC1pbHN0AAAAJal0b28AAAAdZGF0YQAAAAEA\n",
       "AAAATGF2ZjU4LjI5LjEwMA==\n",
       "\">\n",
       "  Your browser does not support the video tag.\n",
       "</video>"
      ],
      "text/plain": [
       "<IPython.core.display.HTML object>"
      ]
     },
     "execution_count": 18,
     "metadata": {},
     "output_type": "execute_result"
    },
    {
     "data": {
      "image/png": "[encoded data removed]",
      "text/plain": [
       "<Figure size 1000x500 with 1 Axes>"
      ]
     },
     "metadata": {},
     "output_type": "display_data"
    }
   ],
   "source": [
    "from IPython.display import HTML\n",
    "\n",
    "fig, ax = plt.subplots(1, figsize = (10, 5), dpi = 100)\n",
    "camera = Camera(fig)\n",
    "\n",
    "#Plot at each time step\n",
    "for i in np.arange(0, len(s_array[:,0,0])):\n",
    "    im = ax.pcolormesh(xm, ym, s_array[i,:,:].T, cmap = cmo.cm.balance)\n",
    "    \n",
    "    ax.set_xlabel('X', fontsize = '16')\n",
    "    plt.xticks([])\n",
    "    ax.set_ylabel('Y', fontsize = '16')\n",
    "    plt.yticks([])\n",
    "    ax.set_title('Tracer Concentration Evolution', fontsize = 16)\n",
    "    camera.snap()\n",
    "\n",
    "ani = camera.animate();\n",
    "HTML(ani.to_html5_video())"
   ]
  },
  {
   "cell_type": "markdown",
   "metadata": {},
   "source": [
    "### Summary - BVPs\n",
    "    1. Define bases and domain\n",
    "    2. Enter equations and BCs\n",
    "    3. Select solver - run it"
   ]
  },
  {
   "cell_type": "markdown",
   "metadata": {},
   "source": [
    "### Summary - IVPs\n",
    "    1. Define bases and domain\n",
    "    2. Enter equations, BCs, and ICs\n",
    "    3. Select solver (timestepping scheme) \n",
    "    4. Write solver loop - solve at every timestep"
   ]
  },
  {
   "cell_type": "code",
   "execution_count": null,
   "metadata": {},
   "outputs": [],
   "source": []
  }
 ],
 "metadata": {
  "kernelspec": {
   "display_name": "Python 3",
   "language": "python",
   "name": "python3"
  },
  "language_info": {
   "codemirror_mode": {
    "name": "ipython",
    "version": 3
   },
   "file_extension": ".py",
   "mimetype": "text/x-python",
   "name": "python",
   "nbconvert_exporter": "python",
   "pygments_lexer": "ipython3",
   "version": "3.8.2"
  }
 },
 "nbformat": 4,
 "nbformat_minor": 4
}
